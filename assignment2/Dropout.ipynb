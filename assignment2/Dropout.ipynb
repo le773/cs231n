{
 "cells": [
  {
   "cell_type": "markdown",
   "metadata": {},
   "source": [
    "# Dropout\n",
    "Dropout [1] is a technique for regularizing neural networks by randomly setting some features to zero during the forward pass. In this exercise you will implement a dropout layer and modify your fully-connected network to optionally use dropout.\n",
    "\n",
    "[1] Geoffrey E. Hinton et al, \"Improving neural networks by preventing co-adaptation of feature detectors\", arXiv 2012"
   ]
  },
  {
   "cell_type": "code",
   "execution_count": 18,
   "metadata": {},
   "outputs": [],
   "source": [
    "# As usual, a bit of setup\n",
    "\n",
    "import time\n",
    "import numpy as np\n",
    "import matplotlib.pyplot as plt\n",
    "from cs231n.classifiers.fc_net import *\n",
    "from cs231n.data_utils import get_CIFAR10_data\n",
    "from cs231n.gradient_check import eval_numerical_gradient, eval_numerical_gradient_array\n",
    "from cs231n.solver import Solver\n",
    "\n",
    "%matplotlib inline\n",
    "plt.rcParams['figure.figsize'] = (10.0, 8.0) # set default size of plots\n",
    "plt.rcParams['image.interpolation'] = 'nearest'\n",
    "plt.rcParams['image.cmap'] = 'gray'\n",
    "\n",
    "# for auto-reloading external modules\n",
    "# see http://stackoverflow.com/questions/1907993/autoreload-of-modules-in-ipython\n",
    "# %load_ext autoreload\n",
    "%reload_ext autoreload\n",
    "# %autoreload 2\n",
    "\n",
    "def rel_error(x, y):\n",
    "  \"\"\" returns relative error \"\"\"\n",
    "  return np.max(np.abs(x - y) / (np.maximum(1e-8, np.abs(x) + np.abs(y))))"
   ]
  },
  {
   "cell_type": "code",
   "execution_count": 19,
   "metadata": {},
   "outputs": [
    {
     "name": "stdout",
     "output_type": "stream",
     "text": [
      "dict_keys([b'batch_label', b'labels', b'data', b'filenames'])\n",
      "dict_keys([b'batch_label', b'labels', b'data', b'filenames'])\n",
      "dict_keys([b'batch_label', b'labels', b'data', b'filenames'])\n",
      "dict_keys([b'batch_label', b'labels', b'data', b'filenames'])\n",
      "dict_keys([b'batch_label', b'labels', b'data', b'filenames'])\n",
      "dict_keys([b'batch_label', b'labels', b'data', b'filenames'])\n",
      "X_train:  (49000, 3, 32, 32)\n",
      "y_train:  (49000,)\n",
      "X_val:  (1000, 3, 32, 32)\n",
      "y_val:  (1000,)\n",
      "X_test:  (1000, 3, 32, 32)\n",
      "y_test:  (1000,)\n"
     ]
    }
   ],
   "source": [
    "# Load the (preprocessed) CIFAR10 data.\n",
    "\n",
    "data = get_CIFAR10_data()\n",
    "for k, v in data.items():\n",
    "  print('%s: ' % k, v.shape)"
   ]
  },
  {
   "cell_type": "markdown",
   "metadata": {},
   "source": [
    "# Dropout forward pass\n",
    "In the file `cs231n/layers.py`, implement the forward pass for dropout. Since dropout behaves differently during training and testing, make sure to implement the operation for both modes.\n",
    "\n",
    "Once you have done so, run the cell below to test your implementation."
   ]
  },
  {
   "cell_type": "code",
   "execution_count": 20,
   "metadata": {},
   "outputs": [
    {
     "name": "stdout",
     "output_type": "stream",
     "text": [
      "Running tests with p =  0.3\n",
      "Mean of input:  9.999966383163867\n",
      "Mean of train-time output:  9.994467118170617\n",
      "Mean of test-time output:  9.999966383163867\n",
      "Fraction of train-time output set to zero:  0.300396\n",
      "Fraction of test-time output set to zero:  0.0\n",
      "\n",
      "Running tests with p =  0.6\n",
      "Mean of input:  9.999966383163867\n",
      "Mean of train-time output:  10.024934076902415\n",
      "Mean of test-time output:  9.999966383163867\n",
      "Fraction of train-time output set to zero:  0.599016\n",
      "Fraction of test-time output set to zero:  0.0\n",
      "\n",
      "Running tests with p =  0.75\n",
      "Mean of input:  9.999966383163867\n",
      "Mean of train-time output:  9.978814612737434\n",
      "Mean of test-time output:  9.999966383163867\n",
      "Fraction of train-time output set to zero:  0.750476\n",
      "Fraction of test-time output set to zero:  0.0\n",
      "\n"
     ]
    }
   ],
   "source": [
    "x = np.random.randn(500, 500) + 10\n",
    "\n",
    "for p in [0.3, 0.6, 0.75]:\n",
    "  out, _ = dropout_forward(x, {'mode': 'train', 'p': p})\n",
    "  out_test, _ = dropout_forward(x, {'mode': 'test', 'p': p})\n",
    "\n",
    "  print('Running tests with p = ', p)\n",
    "  print('Mean of input: ', x.mean())\n",
    "  print('Mean of train-time output: ', out.mean())\n",
    "  print('Mean of test-time output: ', out_test.mean())\n",
    "  print('Fraction of train-time output set to zero: ', (out == 0).mean())\n",
    "  print('Fraction of test-time output set to zero: ', (out_test == 0).mean())\n",
    "  print()"
   ]
  },
  {
   "cell_type": "markdown",
   "metadata": {},
   "source": [
    "# Dropout backward pass\n",
    "In the file `cs231n/layers.py`, implement the backward pass for dropout. After doing so, run the following cell to numerically gradient-check your implementation."
   ]
  },
  {
   "cell_type": "code",
   "execution_count": 21,
   "metadata": {},
   "outputs": [
    {
     "name": "stdout",
     "output_type": "stream",
     "text": [
      "x:[[ 8.61638705  9.81118306  9.1542256   8.94052644 12.49551057  9.66358636\n",
      "   9.07770315  9.26840819  9.36404174 11.23508548]\n",
      " [11.21409983  9.93729844 10.03093276 11.20266797  9.37953489 10.52220489\n",
      "   9.32263609 10.52422581 12.12529517  8.39241933]\n",
      " [ 9.05425228  8.57649418 10.64833146 10.6297234   9.072729   10.51126789\n",
      "   8.46350179  9.25918704  8.84525806  9.04859636]\n",
      " [10.7595572  10.74353937  8.90716645 10.32326294  8.16328725 10.42685754\n",
      "   8.68376295  8.65671609 10.01242683  9.46933708]\n",
      " [ 9.39953592  9.24897753 10.65229722  9.7620057   8.78757033 10.75732934\n",
      "   9.65588135 11.43793013 10.32248563  8.87913756]\n",
      " [11.30536808  9.67669903 11.26428195 10.39943177 10.3711215   8.30383613\n",
      "   9.45530617  9.77259768  8.15820352  9.67805036]\n",
      " [10.53686382  9.59893101  9.44717791 10.77516243 10.85885656  8.52368335\n",
      "   9.21921602  8.59743853  8.89376568 10.29442743]\n",
      " [10.32787693 10.37969192  9.6818772   9.6347055  10.01072028 10.14444867\n",
      "   8.51086369  7.64890674  8.99256011  9.77695832]\n",
      " [10.3950165   8.88656809 10.76996245  8.45184168  8.59888816  9.8165814\n",
      "   9.85312331  9.09733655  8.6998313   8.90869499]\n",
      " [10.19976408  9.13594802 10.52621826  9.48128094  8.53513251  8.72208279\n",
      "   9.89886484  9.61773928  9.61119094 11.55501734]]\n",
      "dx:[[-0.          0.         -0.          0.         -0.          0.\n",
      "  -0.         -0.         -0.         -0.        ]\n",
      " [ 0.         -0.         -0.          2.33192988  0.          0.\n",
      "  -5.28766887 -0.91033295 -0.         -0.        ]\n",
      " [-0.         -0.          0.          0.          0.         -0.\n",
      "   0.          0.         -0.          0.        ]\n",
      " [ 5.27609409  0.          0.         -0.         -0.          0.\n",
      "  -0.         -0.          0.         -0.        ]\n",
      " [-0.          2.24576234 -0.          0.         -0.          0.\n",
      "  -0.          0.         -0.         -0.        ]\n",
      " [-3.55518068 -0.          0.          0.         -0.          0.\n",
      "   0.         -0.          0.          0.        ]\n",
      " [-0.          0.          0.          0.          0.          8.9130435\n",
      "  -0.          0.          0.39185978 -0.        ]\n",
      " [-3.6249887  -0.          0.         -0.         -4.84251807 -0.\n",
      "   0.         -2.0929527   6.60520711  0.        ]\n",
      " [-0.          0.          0.         -0.          0.         -0.\n",
      "  -0.         -3.84419563  0.          0.        ]\n",
      " [ 0.          0.         -0.         -0.          0.          0.\n",
      "   1.8867753  -0.          0.         -0.        ]]\n",
      "dx relative error:  1.8929063949062375e-11\n"
     ]
    }
   ],
   "source": [
    "x = np.random.randn(10, 10) + 10\n",
    "dout = np.random.randn(*x.shape)\n",
    "\n",
    "dropout_param = {'mode': 'train', 'p': 0.8, 'seed': 123}\n",
    "out, cache = dropout_forward(x, dropout_param)\n",
    "print('x:{}'.format(x))\n",
    "dx = dropout_backward(dout, cache)\n",
    "print('dx:{}'.format(dx))\n",
    "dx_num = eval_numerical_gradient_array(lambda xx: dropout_forward(xx, dropout_param)[0], x, dout)\n",
    "\n",
    "print('dx relative error: ', rel_error(dx, dx_num))"
   ]
  },
  {
   "cell_type": "markdown",
   "metadata": {},
   "source": [
    "# Fully-connected nets with Dropout\n",
    "In the file `cs231n/classifiers/fc_net.py`, modify your implementation to use dropout. Specificially, if the constructor the the net receives a nonzero value for the `dropout` parameter, then the net should add dropout immediately after every ReLU nonlinearity. After doing so, run the following to numerically gradient-check your implementation."
   ]
  },
  {
   "cell_type": "code",
   "execution_count": 35,
   "metadata": {},
   "outputs": [
    {
     "name": "stdout",
     "output_type": "stream",
     "text": [
      "Running check with dropout =  0\n",
      "Initial loss:  2.0173141694218577\n",
      "W1 relative error: 4.83e-07\n",
      "W2 relative error: 1.39e-07\n",
      "W3 relative error: 1.54e-06\n",
      "b1 relative error: 2.03e-08\n",
      "b2 relative error: 7.29e-10\n",
      "b3 relative error: 1.71e-09\n",
      "\n",
      "Running check with dropout =  0.25\n",
      "Initial loss:  1.7762205177153843\n",
      "W1 relative error: 2.17e-08\n",
      "W2 relative error: 7.51e-09\n",
      "W3 relative error: 8.00e-08\n",
      "b1 relative error: 2.92e-10\n",
      "b2 relative error: 8.63e-11\n",
      "b3 relative error: 1.93e-10\n",
      "\n",
      "Running check with dropout =  0.5\n",
      "Initial loss:  2.5170009333750327\n",
      "W1 relative error: 6.73e-09\n",
      "W2 relative error: 1.90e-08\n",
      "W3 relative error: 3.71e-07\n",
      "b1 relative error: 5.61e-11\n",
      "b2 relative error: 5.11e-10\n",
      "b3 relative error: 4.19e-10\n",
      "\n"
     ]
    }
   ],
   "source": [
    "# input hiddlen1 hiddlen2 out\n",
    "N, D, H1, H2, C = 2, 15, 20, 30, 10\n",
    "X = np.random.randn(N, D)\n",
    "y = np.random.randint(C, size=(N,))\n",
    "\n",
    "for dropout in [0, 0.25, 0.5]:\n",
    "  print('Running check with dropout = ', dropout)\n",
    "  model = FullyConnectedNet([H1, H2], input_dim=D, num_classes=C,\n",
    "                            weight_scale=5e-2, dtype=np.float64,\n",
    "                            dropout=dropout, seed=123)\n",
    "\n",
    "  loss, grads = model.loss(X, y)\n",
    "  print('Initial loss: ', loss)\n",
    "\n",
    "  for name in sorted(grads):\n",
    "    f = lambda _: model.loss(X, y)[0]\n",
    "    grad_num = eval_numerical_gradient(f, model.params[name], verbose=False, h=1e-5)\n",
    "    print('%s relative error: %.2e' % (name, rel_error(grad_num, grads[name])))\n",
    "  print()"
   ]
  },
  {
   "cell_type": "markdown",
   "metadata": {},
   "source": [
    "# Regularization experiment\n",
    "As an experiment, we will train a pair of two-layer networks on 500 training examples: one will use no dropout, and one will use a dropout probability of 0.75. We will then visualize the training and validation accuracies of the two networks over time."
   ]
  },
  {
   "cell_type": "code",
   "execution_count": 44,
   "metadata": {
    "scrolled": false
   },
   "outputs": [
    {
     "name": "stdout",
     "output_type": "stream",
     "text": [
      "0\n"
     ]
    },
    {
     "name": "stderr",
     "output_type": "stream",
     "text": [
      "D:\\ML\\cs231n\\assignment2\\cs231n\\layers.py:681: RuntimeWarning: divide by zero encountered in log\n",
      "  Returns a tuple of:\n"
     ]
    },
    {
     "name": "stdout",
     "output_type": "stream",
     "text": [
      "(Iteration 1 / 125) loss: inf\n",
      "(Epoch 0 / 25) train acc: 0.182000; val_acc: 0.163000\n",
      "(Epoch 1 / 25) train acc: 0.344000; val_acc: 0.254000\n",
      "(Epoch 2 / 25) train acc: 0.506000; val_acc: 0.253000\n",
      "(Epoch 3 / 25) train acc: 0.536000; val_acc: 0.243000\n",
      "(Epoch 4 / 25) train acc: 0.652000; val_acc: 0.288000\n",
      "(Epoch 5 / 25) train acc: 0.736000; val_acc: 0.256000\n",
      "(Epoch 6 / 25) train acc: 0.768000; val_acc: 0.284000\n",
      "(Epoch 7 / 25) train acc: 0.830000; val_acc: 0.307000\n",
      "(Epoch 8 / 25) train acc: 0.862000; val_acc: 0.275000\n",
      "(Epoch 9 / 25) train acc: 0.844000; val_acc: 0.270000\n",
      "(Epoch 10 / 25) train acc: 0.906000; val_acc: 0.297000\n",
      "(Epoch 11 / 25) train acc: 0.920000; val_acc: 0.306000\n",
      "(Epoch 12 / 25) train acc: 0.920000; val_acc: 0.290000\n",
      "(Epoch 13 / 25) train acc: 0.958000; val_acc: 0.291000\n",
      "(Epoch 14 / 25) train acc: 0.972000; val_acc: 0.292000\n",
      "(Epoch 15 / 25) train acc: 0.964000; val_acc: 0.290000\n",
      "(Epoch 16 / 25) train acc: 0.976000; val_acc: 0.291000\n",
      "(Epoch 17 / 25) train acc: 0.982000; val_acc: 0.306000\n",
      "(Epoch 18 / 25) train acc: 0.988000; val_acc: 0.305000\n",
      "(Epoch 19 / 25) train acc: 0.988000; val_acc: 0.310000\n",
      "(Epoch 20 / 25) train acc: 0.994000; val_acc: 0.312000\n",
      "(Iteration 101 / 125) loss: 0.000000\n",
      "(Epoch 21 / 25) train acc: 0.994000; val_acc: 0.309000\n",
      "(Epoch 22 / 25) train acc: 0.998000; val_acc: 0.309000\n",
      "(Epoch 23 / 25) train acc: 0.992000; val_acc: 0.309000\n",
      "(Epoch 24 / 25) train acc: 1.000000; val_acc: 0.316000\n",
      "(Epoch 25 / 25) train acc: 0.998000; val_acc: 0.309000\n",
      "0.5\n",
      "(Iteration 1 / 125) loss: inf\n",
      "(Epoch 0 / 25) train acc: 0.188000; val_acc: 0.140000\n",
      "(Epoch 1 / 25) train acc: 0.360000; val_acc: 0.238000\n",
      "(Epoch 2 / 25) train acc: 0.456000; val_acc: 0.268000\n",
      "(Epoch 3 / 25) train acc: 0.560000; val_acc: 0.296000\n",
      "(Epoch 4 / 25) train acc: 0.646000; val_acc: 0.282000\n",
      "(Epoch 5 / 25) train acc: 0.678000; val_acc: 0.310000\n",
      "(Epoch 6 / 25) train acc: 0.752000; val_acc: 0.299000\n",
      "(Epoch 7 / 25) train acc: 0.758000; val_acc: 0.303000\n",
      "(Epoch 8 / 25) train acc: 0.818000; val_acc: 0.318000\n",
      "(Epoch 9 / 25) train acc: 0.850000; val_acc: 0.312000\n",
      "(Epoch 10 / 25) train acc: 0.844000; val_acc: 0.299000\n",
      "(Epoch 11 / 25) train acc: 0.906000; val_acc: 0.303000\n",
      "(Epoch 12 / 25) train acc: 0.886000; val_acc: 0.293000\n",
      "(Epoch 13 / 25) train acc: 0.906000; val_acc: 0.293000\n",
      "(Epoch 14 / 25) train acc: 0.936000; val_acc: 0.307000\n",
      "(Epoch 15 / 25) train acc: 0.952000; val_acc: 0.315000\n",
      "(Epoch 16 / 25) train acc: 0.978000; val_acc: 0.331000\n",
      "(Epoch 17 / 25) train acc: 0.962000; val_acc: 0.322000\n",
      "(Epoch 18 / 25) train acc: 0.974000; val_acc: 0.323000\n",
      "(Epoch 19 / 25) train acc: 0.974000; val_acc: 0.325000\n",
      "(Epoch 20 / 25) train acc: 0.982000; val_acc: 0.322000\n",
      "(Iteration 101 / 125) loss: inf\n",
      "(Epoch 21 / 25) train acc: 0.976000; val_acc: 0.325000\n",
      "(Epoch 22 / 25) train acc: 0.974000; val_acc: 0.313000\n",
      "(Epoch 23 / 25) train acc: 0.984000; val_acc: 0.301000\n",
      "(Epoch 24 / 25) train acc: 0.982000; val_acc: 0.315000\n",
      "(Epoch 25 / 25) train acc: 0.990000; val_acc: 0.305000\n",
      "0.75\n",
      "(Iteration 1 / 125) loss: inf\n",
      "(Epoch 0 / 25) train acc: 0.228000; val_acc: 0.183000\n",
      "(Epoch 1 / 25) train acc: 0.356000; val_acc: 0.220000\n",
      "(Epoch 2 / 25) train acc: 0.420000; val_acc: 0.271000\n",
      "(Epoch 3 / 25) train acc: 0.486000; val_acc: 0.277000\n",
      "(Epoch 4 / 25) train acc: 0.554000; val_acc: 0.307000\n",
      "(Epoch 5 / 25) train acc: 0.596000; val_acc: 0.302000\n",
      "(Epoch 6 / 25) train acc: 0.646000; val_acc: 0.319000\n",
      "(Epoch 7 / 25) train acc: 0.646000; val_acc: 0.320000\n",
      "(Epoch 8 / 25) train acc: 0.686000; val_acc: 0.333000\n",
      "(Epoch 9 / 25) train acc: 0.742000; val_acc: 0.325000\n",
      "(Epoch 10 / 25) train acc: 0.762000; val_acc: 0.319000\n",
      "(Epoch 11 / 25) train acc: 0.800000; val_acc: 0.323000\n",
      "(Epoch 12 / 25) train acc: 0.826000; val_acc: 0.337000\n",
      "(Epoch 13 / 25) train acc: 0.832000; val_acc: 0.328000\n",
      "(Epoch 14 / 25) train acc: 0.860000; val_acc: 0.339000\n",
      "(Epoch 15 / 25) train acc: 0.866000; val_acc: 0.349000\n",
      "(Epoch 16 / 25) train acc: 0.874000; val_acc: 0.346000\n",
      "(Epoch 17 / 25) train acc: 0.858000; val_acc: 0.331000\n",
      "(Epoch 18 / 25) train acc: 0.884000; val_acc: 0.337000\n",
      "(Epoch 19 / 25) train acc: 0.898000; val_acc: 0.343000\n",
      "(Epoch 20 / 25) train acc: 0.918000; val_acc: 0.339000\n",
      "(Iteration 101 / 125) loss: inf\n",
      "(Epoch 21 / 25) train acc: 0.928000; val_acc: 0.347000\n",
      "(Epoch 22 / 25) train acc: 0.932000; val_acc: 0.324000\n",
      "(Epoch 23 / 25) train acc: 0.928000; val_acc: 0.319000\n",
      "(Epoch 24 / 25) train acc: 0.950000; val_acc: 0.326000\n",
      "(Epoch 25 / 25) train acc: 0.946000; val_acc: 0.322000\n",
      "0.9\n",
      "(Iteration 1 / 125) loss: inf\n",
      "(Epoch 0 / 25) train acc: 0.216000; val_acc: 0.197000\n",
      "(Epoch 1 / 25) train acc: 0.296000; val_acc: 0.258000\n",
      "(Epoch 2 / 25) train acc: 0.358000; val_acc: 0.275000\n",
      "(Epoch 3 / 25) train acc: 0.386000; val_acc: 0.271000\n",
      "(Epoch 4 / 25) train acc: 0.440000; val_acc: 0.268000\n",
      "(Epoch 5 / 25) train acc: 0.488000; val_acc: 0.279000\n",
      "(Epoch 6 / 25) train acc: 0.498000; val_acc: 0.298000\n",
      "(Epoch 7 / 25) train acc: 0.506000; val_acc: 0.307000\n",
      "(Epoch 8 / 25) train acc: 0.530000; val_acc: 0.300000\n",
      "(Epoch 9 / 25) train acc: 0.574000; val_acc: 0.315000\n",
      "(Epoch 10 / 25) train acc: 0.594000; val_acc: 0.343000\n",
      "(Epoch 11 / 25) train acc: 0.614000; val_acc: 0.332000\n",
      "(Epoch 12 / 25) train acc: 0.616000; val_acc: 0.332000\n",
      "(Epoch 13 / 25) train acc: 0.642000; val_acc: 0.337000\n",
      "(Epoch 14 / 25) train acc: 0.664000; val_acc: 0.333000\n",
      "(Epoch 15 / 25) train acc: 0.714000; val_acc: 0.325000\n",
      "(Epoch 16 / 25) train acc: 0.722000; val_acc: 0.315000\n",
      "(Epoch 17 / 25) train acc: 0.730000; val_acc: 0.317000\n",
      "(Epoch 18 / 25) train acc: 0.730000; val_acc: 0.317000\n",
      "(Epoch 19 / 25) train acc: 0.746000; val_acc: 0.332000\n",
      "(Epoch 20 / 25) train acc: 0.742000; val_acc: 0.346000\n",
      "(Iteration 101 / 125) loss: inf\n",
      "(Epoch 21 / 25) train acc: 0.762000; val_acc: 0.346000\n",
      "(Epoch 22 / 25) train acc: 0.776000; val_acc: 0.346000\n",
      "(Epoch 23 / 25) train acc: 0.788000; val_acc: 0.349000\n",
      "(Epoch 24 / 25) train acc: 0.782000; val_acc: 0.340000\n",
      "(Epoch 25 / 25) train acc: 0.780000; val_acc: 0.344000\n"
     ]
    }
   ],
   "source": [
    "# Train two identical nets, one with dropout and one without\n",
    "\n",
    "num_train = 500\n",
    "small_data = {\n",
    "  'X_train': data['X_train'][:num_train],\n",
    "  'y_train': data['y_train'][:num_train],\n",
    "  'X_val': data['X_val'],\n",
    "  'y_val': data['y_val'],\n",
    "}\n",
    "\n",
    "solvers = {}\n",
    "dropout_choices = [0, 0.5, 0.75, 0.9]\n",
    "for dropout in dropout_choices:\n",
    "  model = FullyConnectedNet([500], dropout=dropout)\n",
    "  print(dropout)\n",
    "\n",
    "  solver = Solver(model, small_data,\n",
    "                  num_epochs=25, batch_size=100,\n",
    "                  update_rule='adam',\n",
    "                  optim_config={\n",
    "                    'learning_rate': 5e-4,\n",
    "                  },\n",
    "                  verbose=True, print_every=100)\n",
    "  solver.train()\n",
    "  solvers[dropout] = solver"
   ]
  },
  {
   "cell_type": "code",
   "execution_count": 45,
   "metadata": {},
   "outputs": [
    {
     "data": {
      "image/png": "[encoded data removed]",
      "text/plain": [
       "<matplotlib.figure.Figure at 0xbef7898>"
      ]
     },
     "metadata": {},
     "output_type": "display_data"
    }
   ],
   "source": [
    "# Plot train and validation accuracies of the two models\n",
    "\n",
    "train_accs = []\n",
    "val_accs = []\n",
    "for dropout in dropout_choices:\n",
    "  solver = solvers[dropout]\n",
    "  train_accs.append(solver.train_acc_history[-1])\n",
    "  val_accs.append(solver.val_acc_history[-1])\n",
    "\n",
    "plt.subplot(3, 1, 1)\n",
    "for dropout in dropout_choices:\n",
    "  plt.plot(solvers[dropout].train_acc_history, 'o', label='%.2f dropout' % dropout)\n",
    "plt.title('Train accuracy')\n",
    "plt.xlabel('Epoch')\n",
    "plt.ylabel('Accuracy')\n",
    "plt.legend(ncol=2, loc='lower right')\n",
    "  \n",
    "plt.subplot(3, 1, 2)\n",
    "for dropout in dropout_choices:\n",
    "  plt.plot(solvers[dropout].val_acc_history, 'o', label='%.2f dropout' % dropout)\n",
    "plt.title('Val accuracy')\n",
    "plt.xlabel('Epoch')\n",
    "plt.ylabel('Accuracy')\n",
    "plt.legend(ncol=2, loc='lower right')\n",
    "\n",
    "plt.gcf().set_size_inches(15, 15)\n",
    "plt.show()"
   ]
  },
  {
   "cell_type": "markdown",
   "metadata": {},
   "source": [
    "# Question\n",
    "Explain what you see in this experiment. What does it suggest about dropout?"
   ]
  },
  {
   "cell_type": "markdown",
   "metadata": {},
   "source": [
    "# Answer\n",
    "Dropout can alleviate overfitting."
   ]
  }
 ],
 "metadata": {
  "kernelspec": {
   "display_name": "Python 3",
   "language": "python",
   "name": "python3"
  },
  "language_info": {
   "codemirror_mode": {
    "name": "ipython",
    "version": 3
   },
   "file_extension": ".py",
   "mimetype": "text/x-python",
   "name": "python",
   "nbconvert_exporter": "python",
   "pygments_lexer": "ipython3",
   "version": "3.6.2"
  }
 },
 "nbformat": 4,
 "nbformat_minor": 1
}
