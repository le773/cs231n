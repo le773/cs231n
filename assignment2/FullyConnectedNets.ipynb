{
 "cells": [
  {
   "cell_type": "markdown",
   "metadata": {},
   "source": [
    "# Fully-Connected Neural Nets\n",
    "In the previous homework you implemented a fully-connected two-layer neural network on CIFAR-10. The implementation was simple but not very modular since the loss and gradient were computed in a single monolithic function. This is manageable for a simple two-layer network, but would become impractical as we move to bigger models. Ideally we want to build networks using a more modular design so that we can implement different layer types in isolation and then snap them together into models with different architectures.\n",
    "\n",
    "In this exercise we will implement fully-connected networks using a more modular approach. For each layer we will implement a `forward` and a `backward` function. The `forward` function will receive inputs, weights, and other parameters and will return both an output and a `cache` object storing data needed for the backward pass, like this:\n",
    "\n",
    "```python\n",
    "def layer_forward(x, w):\n",
    "  \"\"\" Receive inputs x and weights w \"\"\"\n",
    "  # Do some computations ...\n",
    "  z = # ... some intermediate value\n",
    "  # Do some more computations ...\n",
    "  out = # the output\n",
    "   \n",
    "  cache = (x, w, z, out) # Values we need to compute gradients\n",
    "   \n",
    "  return out, cache\n",
    "```\n",
    "\n",
    "The backward pass will receive upstream derivatives and the `cache` object, and will return gradients with respect to the inputs and weights, like this:\n",
    "\n",
    "```python\n",
    "def layer_backward(dout, cache):\n",
    "  \"\"\"\n",
    "  Receive derivative of loss with respect to outputs and cache,\n",
    "  and compute derivative with respect to inputs.\n",
    "  \"\"\"\n",
    "  # Unpack cache values\n",
    "  x, w, z, out = cache\n",
    "  \n",
    "  # Use values in cache to compute derivatives\n",
    "  dx = # Derivative of loss with respect to x\n",
    "  dw = # Derivative of loss with respect to w\n",
    "  \n",
    "  return dx, dw\n",
    "```\n",
    "\n",
    "After implementing a bunch of layers this way, we will be able to easily combine them to build classifiers with different architectures.\n",
    "\n",
    "In addition to implementing fully-connected networks of arbitrary depth, we will also explore different update rules for optimization, and introduce Dropout as a regularizer and Batch Normalization as a tool to more efficiently optimize deep networks.\n",
    "  "
   ]
  },
  {
   "cell_type": "code",
   "execution_count": 1,
   "metadata": {},
   "outputs": [
    {
     "name": "stdout",
     "output_type": "stream",
     "text": [
      "run the following from the cs231n directory and try again:\n",
      "python setup.py build_ext --inplace\n",
      "You may also need to restart your iPython kernel\n"
     ]
    }
   ],
   "source": [
    "# As usual, a bit of setup\n",
    "\n",
    "import time\n",
    "import numpy as np\n",
    "import matplotlib.pyplot as plt\n",
    "from cs231n.classifiers.fc_net import *\n",
    "from cs231n.data_utils import get_CIFAR10_data\n",
    "from cs231n.gradient_check import eval_numerical_gradient, eval_numerical_gradient_array\n",
    "from cs231n.solver import Solver\n",
    "\n",
    "%matplotlib inline\n",
    "plt.rcParams['figure.figsize'] = (10.0, 8.0) # set default size of plots\n",
    "plt.rcParams['image.interpolation'] = 'nearest'\n",
    "plt.rcParams['image.cmap'] = 'gray'\n",
    "\n",
    "# for auto-reloading external modules\n",
    "# see http://stackoverflow.com/questions/1907993/autoreload-of-modules-in-ipython\n",
    "# %load_ext autoreload\n",
    "%reload_ext autoreload\n",
    "# %autoreload 2\n",
    "\n",
    "def rel_error(x, y):\n",
    "  \"\"\" returns relative error \"\"\"\n",
    "  return np.max(np.abs(x - y) / (np.maximum(1e-8, np.abs(x) + np.abs(y))))"
   ]
  },
  {
   "cell_type": "code",
   "execution_count": 2,
   "metadata": {},
   "outputs": [
    {
     "name": "stdout",
     "output_type": "stream",
     "text": [
      "dict_keys([b'batch_label', b'labels', b'data', b'filenames'])\n",
      "dict_keys([b'batch_label', b'labels', b'data', b'filenames'])\n",
      "dict_keys([b'batch_label', b'labels', b'data', b'filenames'])\n",
      "dict_keys([b'batch_label', b'labels', b'data', b'filenames'])\n",
      "dict_keys([b'batch_label', b'labels', b'data', b'filenames'])\n",
      "dict_keys([b'batch_label', b'labels', b'data', b'filenames'])\n",
      "X_train:  (49000, 3, 32, 32)\n",
      "y_train:  (49000,)\n",
      "X_val:  (1000, 3, 32, 32)\n",
      "y_val:  (1000,)\n",
      "X_test:  (1000, 3, 32, 32)\n",
      "y_test:  (1000,)\n"
     ]
    }
   ],
   "source": [
    "# Load the (preprocessed) CIFAR10 data.\n",
    "\n",
    "data = get_CIFAR10_data()\n",
    "for k, v in data.items():\n",
    "  print('%s: ' % k, v.shape)"
   ]
  },
  {
   "cell_type": "markdown",
   "metadata": {},
   "source": [
    "# Affine layer: foward\n",
    "Open the file `cs231n/layers.py` and implement the `affine_forward` function.\n",
    "\n",
    "Once you are done you can test your implementaion by running the following:"
   ]
  },
  {
   "cell_type": "code",
   "execution_count": 6,
   "metadata": {},
   "outputs": [
    {
     "name": "stdout",
     "output_type": "stream",
     "text": [
      "Testing affine_forward function:\n",
      "difference:  9.769847728806635e-10\n"
     ]
    }
   ],
   "source": [
    "# Test the affine_forward function\n",
    "\n",
    "num_inputs = 2\n",
    "input_shape = (4, 5, 6)\n",
    "output_dim = 3\n",
    "\n",
    "input_size = num_inputs * np.prod(input_shape)\n",
    "weight_size = output_dim * np.prod(input_shape)\n",
    "\n",
    "x = np.linspace(-0.1, 0.5, num=input_size).reshape(num_inputs, *input_shape)\n",
    "w = np.linspace(-0.2, 0.3, num=weight_size).reshape(np.prod(input_shape), output_dim)\n",
    "b = np.linspace(-0.3, 0.1, num=output_dim)\n",
    "\n",
    "out, _ = affine_forward(x, w, b)\n",
    "correct_out = np.array([[ 1.49834967,  1.70660132,  1.91485297],\n",
    "                        [ 3.25553199,  3.5141327,   3.77273342]])\n",
    "\n",
    "# Compare your output with ours. The error should be around 1e-9.\n",
    "print('Testing affine_forward function:')\n",
    "print('difference: ', rel_error(out, correct_out))"
   ]
  },
  {
   "cell_type": "markdown",
   "metadata": {},
   "source": [
    "# Affine layer: backward\n",
    "Now implement the `affine_backward` function and test your implementation using numeric gradient checking."
   ]
  },
  {
   "cell_type": "code",
   "execution_count": 8,
   "metadata": {},
   "outputs": [
    {
     "name": "stdout",
     "output_type": "stream",
     "text": [
      "Testing affine_backward function:\n",
      "dx error:  2.840215515050913e-10\n",
      "dw error:  7.719168006958142e-11\n",
      "db error:  1.9995733737455037e-11\n"
     ]
    }
   ],
   "source": [
    "# Test the affine_backward function\n",
    "\n",
    "x = np.random.randn(10, 2, 3)\n",
    "w = np.random.randn(6, 5)\n",
    "b = np.random.randn(5)\n",
    "dout = np.random.randn(10, 5)\n",
    "\n",
    "dx_num = eval_numerical_gradient_array(lambda x: affine_forward(x, w, b)[0], x, dout)\n",
    "dw_num = eval_numerical_gradient_array(lambda w: affine_forward(x, w, b)[0], w, dout)\n",
    "db_num = eval_numerical_gradient_array(lambda b: affine_forward(x, w, b)[0], b, dout)\n",
    "\n",
    "_, cache = affine_forward(x, w, b)\n",
    "dx, dw, db = affine_backward(dout, cache)\n",
    "\n",
    "# The error should be around 1e-10\n",
    "print('Testing affine_backward function:')\n",
    "print('dx error: ', rel_error(dx_num, dx))\n",
    "print('dw error: ', rel_error(dw_num, dw))\n",
    "print('db error: ', rel_error(db_num, db))"
   ]
  },
  {
   "cell_type": "markdown",
   "metadata": {},
   "source": [
    "# ReLU layer: forward\n",
    "Implement the forward pass for the ReLU activation function in the `relu_forward` function and test your implementation using the following:"
   ]
  },
  {
   "cell_type": "code",
   "execution_count": 10,
   "metadata": {},
   "outputs": [
    {
     "name": "stdout",
     "output_type": "stream",
     "text": [
      "(3, 4) (3, 4) (3, 4)\n",
      "Testing relu_forward function:\n",
      "difference:  4.999999798022158e-08\n"
     ]
    }
   ],
   "source": [
    "# Test the relu_forward function\n",
    "\n",
    "x = np.linspace(-0.5, 0.5, num=12).reshape(3, 4)\n",
    "\n",
    "out, _ = relu_forward(x)\n",
    "correct_out = np.array([[ 0.,          0.,          0.,          0.,        ],\n",
    "                        [ 0.,          0.,          0.04545455,  0.13636364,],\n",
    "                        [ 0.22727273,  0.31818182,  0.40909091,  0.5,       ]])\n",
    "\n",
    "print(x.shape, out.shape, correct_out.shape)\n",
    "# Compare your output with ours. The error should be around 1e-8\n",
    "print('Testing relu_forward function:')\n",
    "print('difference: ', rel_error(out, correct_out))"
   ]
  },
  {
   "cell_type": "markdown",
   "metadata": {},
   "source": [
    "# ReLU layer: backward\n",
    "Now implement the backward pass for the ReLU activation function in the `relu_backward` function and test your implementation using numeric gradient checking:"
   ]
  },
  {
   "cell_type": "code",
   "execution_count": 11,
   "metadata": {
    "scrolled": true
   },
   "outputs": [
    {
     "name": "stdout",
     "output_type": "stream",
     "text": [
      "Testing relu_backward function:\n",
      "dx error:  3.2756415525447723e-12\n"
     ]
    }
   ],
   "source": [
    "x = np.random.randn(10, 10)\n",
    "dout = np.random.randn(*x.shape)\n",
    "\n",
    "dx_num = eval_numerical_gradient_array(lambda x: relu_forward(x)[0], x, dout)\n",
    "\n",
    "_, cache = relu_forward(x)\n",
    "dx = relu_backward(dout, cache)\n",
    "\n",
    "# The error should be around 1e-12\n",
    "print('Testing relu_backward function:')\n",
    "print('dx error: ', rel_error(dx_num, dx))"
   ]
  },
  {
   "cell_type": "markdown",
   "metadata": {},
   "source": [
    "# \"Sandwich\" layers\n",
    "There are some common patterns of layers that are frequently used in neural nets. For example, affine layers are frequently followed by a ReLU nonlinearity. To make these common patterns easy, we define several convenience layers in the file `cs231n/layer_utils.py`.\n",
    "\n",
    "For now take a look at the `affine_relu_forward` and `affine_relu_backward` functions, and run the following to numerically gradient check the backward pass:"
   ]
  },
  {
   "cell_type": "code",
   "execution_count": 13,
   "metadata": {},
   "outputs": [
    {
     "name": "stdout",
     "output_type": "stream",
     "text": [
      "Testing affine_relu_forward:\n",
      "dx error:  9.71215517354613e-11\n",
      "dw error:  2.374155886530405e-09\n",
      "db error:  3.2756851302646493e-12\n"
     ]
    }
   ],
   "source": [
    "from cs231n.layer_utils import affine_relu_forward, affine_relu_backward\n",
    "\n",
    "x = np.random.randn(2, 3, 4)\n",
    "w = np.random.randn(12, 10)\n",
    "b = np.random.randn(10)\n",
    "dout = np.random.randn(2, 10)\n",
    "\n",
    "out, cache = affine_relu_forward(x, w, b)\n",
    "dx, dw, db = affine_relu_backward(dout, cache)\n",
    "\n",
    "dx_num = eval_numerical_gradient_array(lambda x: affine_relu_forward(x, w, b)[0], x, dout)\n",
    "dw_num = eval_numerical_gradient_array(lambda w: affine_relu_forward(x, w, b)[0], w, dout)\n",
    "db_num = eval_numerical_gradient_array(lambda b: affine_relu_forward(x, w, b)[0], b, dout)\n",
    "\n",
    "print('Testing affine_relu_forward:')\n",
    "print('dx error: ', rel_error(dx_num, dx))\n",
    "print('dw error: ', rel_error(dw_num, dw))\n",
    "print('db error: ', rel_error(db_num, db))"
   ]
  },
  {
   "cell_type": "markdown",
   "metadata": {},
   "source": [
    "# Loss layers: Softmax and SVM\n",
    "You implemented these loss functions in the last assignment, so we'll give them to you for free here. You should still make sure you understand how they work by looking at the implementations in `cs231n/layers.py`.\n",
    "\n",
    "You can make sure that the implementations are correct by running the following:"
   ]
  },
  {
   "cell_type": "code",
   "execution_count": 14,
   "metadata": {},
   "outputs": [
    {
     "name": "stdout",
     "output_type": "stream",
     "text": [
      "Testing svm_loss:\n",
      "loss:  9.00034541536601\n",
      "dx error:  3.038735505103329e-09\n",
      "\n",
      "Testing softmax_loss:\n",
      "loss:  2.3026200995825308\n",
      "dx error:  7.963751316891703e-09\n"
     ]
    }
   ],
   "source": [
    "num_classes, num_inputs = 10, 50\n",
    "x = 0.001 * np.random.randn(num_inputs, num_classes)\n",
    "y = np.random.randint(num_classes, size=num_inputs)\n",
    "\n",
    "dx_num = eval_numerical_gradient(lambda x: svm_loss(x, y)[0], x, verbose=False)\n",
    "loss, dx = svm_loss(x, y)\n",
    "\n",
    "# Test svm_loss function. Loss should be around 9 and dx error should be 1e-9\n",
    "print('Testing svm_loss:')\n",
    "print('loss: ', loss)\n",
    "print('dx error: ', rel_error(dx_num, dx))\n",
    "\n",
    "dx_num = eval_numerical_gradient(lambda x: softmax_loss(x, y)[0], x, verbose=False)\n",
    "loss, dx = softmax_loss(x, y)\n",
    "\n",
    "# Test softmax_loss function. Loss should be 2.3 and dx error should be 1e-8\n",
    "print('\\nTesting softmax_loss:')\n",
    "print('loss: ', loss)\n",
    "print('dx error: ', rel_error(dx_num, dx))"
   ]
  },
  {
   "cell_type": "markdown",
   "metadata": {},
   "source": [
    "# Two-layer network\n",
    "In the previous assignment you implemented a two-layer neural network in a single monolithic class. Now that you have implemented modular versions of the necessary layers, you will reimplement the two layer network using these modular implementations.\n",
    "\n",
    "Open the file `cs231n/classifiers/fc_net.py` and complete the implementation of the `TwoLayerNet` class. This class will serve as a model for the other networks you will implement in this assignment, so read through it to make sure you understand the API. You can run the cell below to test your implementation."
   ]
  },
  {
   "cell_type": "code",
   "execution_count": 17,
   "metadata": {},
   "outputs": [
    {
     "name": "stdout",
     "output_type": "stream",
     "text": [
      "Testing initialization ... \n",
      "Testing test-time forward pass ... \n",
      "Testing training loss (no regularization)\n",
      "Running numeric gradient check with reg =  0.0\n",
      "W1 relative error: 1.52e-08\n",
      "W2 relative error: 3.48e-10\n",
      "b1 relative error: 6.55e-09\n",
      "b2 relative error: 4.33e-10\n",
      "Running numeric gradient check with reg =  0.7\n",
      "W1 relative error: 8.18e-07\n",
      "W2 relative error: 2.85e-08\n",
      "b1 relative error: 1.09e-09\n",
      "b2 relative error: 9.09e-10\n"
     ]
    }
   ],
   "source": [
    "N, D, H, C = 3, 5, 50, 7\n",
    "X = np.random.randn(N, D)\n",
    "y = np.random.randint(C, size=N)\n",
    "\n",
    "std = 1e-2\n",
    "model = TwoLayerNet(input_dim=D, hidden_dim=H, num_classes=C, weight_scale=std)\n",
    "\n",
    "print('Testing initialization ... ')\n",
    "W1_std = abs(model.params['W1'].std() - std)\n",
    "b1 = model.params['b1']\n",
    "W2_std = abs(model.params['W2'].std() - std)\n",
    "b2 = model.params['b2']\n",
    "assert W1_std < std / 10, 'First layer weights do not seem right'\n",
    "assert np.all(b1 == 0), 'First layer biases do not seem right'\n",
    "assert W2_std < std / 10, 'Second layer weights do not seem right'\n",
    "assert np.all(b2 == 0), 'Second layer biases do not seem right'\n",
    "\n",
    "print('Testing test-time forward pass ... ')\n",
    "model.params['W1'] = np.linspace(-0.7, 0.3, num=D*H).reshape(D, H)\n",
    "model.params['b1'] = np.linspace(-0.1, 0.9, num=H)\n",
    "model.params['W2'] = np.linspace(-0.3, 0.4, num=H*C).reshape(H, C)\n",
    "model.params['b2'] = np.linspace(-0.9, 0.1, num=C)\n",
    "X = np.linspace(-5.5, 4.5, num=N*D).reshape(D, N).T\n",
    "scores = model.loss(X)\n",
    "correct_scores = np.asarray(\n",
    "  [[11.53165108,  12.2917344,   13.05181771,  13.81190102,  14.57198434, 15.33206765,  16.09215096],\n",
    "   [12.05769098,  12.74614105,  13.43459113,  14.1230412,   14.81149128, 15.49994135,  16.18839143],\n",
    "   [12.58373087,  13.20054771,  13.81736455,  14.43418138,  15.05099822, 15.66781506,  16.2846319 ]])\n",
    "scores_diff = np.abs(scores - correct_scores).sum()\n",
    "assert scores_diff < 1e-6, 'Problem with test-time forward pass'\n",
    "\n",
    "print('Testing training loss (no regularization)')\n",
    "y = np.asarray([0, 5, 1])\n",
    "loss, grads = model.loss(X, y)\n",
    "correct_loss = 3.4702243556\n",
    "assert abs(loss - correct_loss) < 1e-10, 'Problem with training-time loss'\n",
    "\n",
    "model.reg = 1.0\n",
    "loss, grads = model.loss(X, y)\n",
    "correct_loss = 26.5948426952\n",
    "assert abs(loss - correct_loss) < 1e-10, 'Problem with regularization loss'\n",
    "\n",
    "for reg in [0.0, 0.7]:\n",
    "  print('Running numeric gradient check with reg = ', reg)\n",
    "  model.reg = reg\n",
    "  loss, grads = model.loss(X, y)\n",
    "\n",
    "  for name in sorted(grads):\n",
    "    f = lambda _: model.loss(X, y)[0]\n",
    "    grad_num = eval_numerical_gradient(f, model.params[name], verbose=False)\n",
    "    print('%s relative error: %.2e' % (name, rel_error(grad_num, grads[name])))"
   ]
  },
  {
   "cell_type": "markdown",
   "metadata": {},
   "source": [
    "# Solver\n",
    "In the previous assignment, the logic for training models was coupled to the models themselves. Following a more modular design, for this assignment we have split the logic for training models into a separate class.\n",
    "\n",
    "Open the file `cs231n/solver.py` and read through it to familiarize yourself with the API. After doing so, use a `Solver` instance to train a `TwoLayerNet` that achieves at least `50%` accuracy on the validation set."
   ]
  },
  {
   "cell_type": "code",
   "execution_count": 20,
   "metadata": {},
   "outputs": [
    {
     "name": "stdout",
     "output_type": "stream",
     "text": [
      "(Iteration 1 / 4900) loss: 2.303694\n",
      "(Epoch 0 / 10) train acc: 0.087000; val_acc: 0.089000\n",
      "(Iteration 101 / 4900) loss: 1.813835\n",
      "(Iteration 201 / 4900) loss: 1.448959\n",
      "(Iteration 301 / 4900) loss: 1.604366\n",
      "(Iteration 401 / 4900) loss: 1.521061\n",
      "(Epoch 1 / 10) train acc: 0.435000; val_acc: 0.428000\n",
      "(Iteration 501 / 4900) loss: 1.789185\n",
      "(Iteration 601 / 4900) loss: 1.578541\n",
      "(Iteration 701 / 4900) loss: 1.473939\n",
      "(Iteration 801 / 4900) loss: 1.681048\n",
      "(Iteration 901 / 4900) loss: 1.369281\n",
      "(Epoch 2 / 10) train acc: 0.501000; val_acc: 0.479000\n",
      "(Iteration 1001 / 4900) loss: 1.620403\n",
      "(Iteration 1101 / 4900) loss: 1.428570\n",
      "(Iteration 1201 / 4900) loss: 1.415653\n",
      "(Iteration 1301 / 4900) loss: 1.461216\n",
      "(Iteration 1401 / 4900) loss: 1.498717\n",
      "(Epoch 3 / 10) train acc: 0.530000; val_acc: 0.477000\n",
      "(Iteration 1501 / 4900) loss: 1.428914\n",
      "(Iteration 1601 / 4900) loss: 1.234022\n",
      "(Iteration 1701 / 4900) loss: 1.528956\n",
      "(Iteration 1801 / 4900) loss: 1.295313\n",
      "(Iteration 1901 / 4900) loss: 1.169105\n",
      "(Epoch 4 / 10) train acc: 0.516000; val_acc: 0.484000\n",
      "(Iteration 2001 / 4900) loss: 1.565266\n",
      "(Iteration 2101 / 4900) loss: 1.322467\n",
      "(Iteration 2201 / 4900) loss: 1.219322\n",
      "(Iteration 2301 / 4900) loss: 1.328535\n",
      "(Iteration 2401 / 4900) loss: 1.375529\n",
      "(Epoch 5 / 10) train acc: 0.540000; val_acc: 0.489000\n",
      "(Iteration 2501 / 4900) loss: 1.516354\n",
      "(Iteration 2601 / 4900) loss: 1.335950\n",
      "(Iteration 2701 / 4900) loss: 1.504829\n",
      "(Iteration 2801 / 4900) loss: 1.168443\n",
      "(Iteration 2901 / 4900) loss: 1.238530\n",
      "(Epoch 6 / 10) train acc: 0.555000; val_acc: 0.505000\n",
      "(Iteration 3001 / 4900) loss: 1.237976\n",
      "(Iteration 3101 / 4900) loss: 1.262131\n",
      "(Iteration 3201 / 4900) loss: 1.263962\n",
      "(Iteration 3301 / 4900) loss: 1.165373\n",
      "(Iteration 3401 / 4900) loss: 1.270112\n",
      "(Epoch 7 / 10) train acc: 0.550000; val_acc: 0.486000\n",
      "(Iteration 3501 / 4900) loss: 1.292222\n",
      "(Iteration 3601 / 4900) loss: 1.109606\n",
      "(Iteration 3701 / 4900) loss: 1.182096\n",
      "(Iteration 3801 / 4900) loss: 1.398837\n",
      "(Iteration 3901 / 4900) loss: 1.396071\n",
      "(Epoch 8 / 10) train acc: 0.553000; val_acc: 0.516000\n",
      "(Iteration 4001 / 4900) loss: 1.048952\n",
      "(Iteration 4101 / 4900) loss: 1.132239\n",
      "(Iteration 4201 / 4900) loss: 1.099183\n",
      "(Iteration 4301 / 4900) loss: 1.051544\n",
      "(Iteration 4401 / 4900) loss: 1.101768\n",
      "(Epoch 9 / 10) train acc: 0.596000; val_acc: 0.521000\n",
      "(Iteration 4501 / 4900) loss: 0.892254\n",
      "(Iteration 4601 / 4900) loss: 1.095839\n",
      "(Iteration 4701 / 4900) loss: 1.063672\n",
      "(Iteration 4801 / 4900) loss: 0.955620\n",
      "(Epoch 10 / 10) train acc: 0.578000; val_acc: 0.524000\n"
     ]
    }
   ],
   "source": [
    "model = TwoLayerNet()\n",
    "solver = None\n",
    "\n",
    "##############################################################################\n",
    "# TODO: Use a Solver instance to train a TwoLayerNet that achieves at least  #\n",
    "# 50% accuracy on the validation set.                                        #\n",
    "##############################################################################\n",
    "pass\n",
    "solver = Solver(model, data,\n",
    "                    update_rule='sgd',\n",
    "                    optim_config={\n",
    "                    'learning_rate': 1e-3,\n",
    "                    },\n",
    "                    lr_decay=0.95,\n",
    "                    num_epochs=10, batch_size=100,\n",
    "                    print_every=100)\n",
    "solver.train()\n",
    "##############################################################################\n",
    "#                             END OF YOUR CODE                               #\n",
    "##############################################################################"
   ]
  },
  {
   "cell_type": "code",
   "execution_count": 21,
   "metadata": {},
   "outputs": [
    {
     "data": {
      "image/png": "[encoded data removed]",
      "text/plain": [
       "<Figure size 1080x864 with 2 Axes>"
      ]
     },
     "metadata": {},
     "output_type": "display_data"
    }
   ],
   "source": [
    "# Run this cell to visualize training loss and train / val accuracy\n",
    "\n",
    "plt.subplot(2, 1, 1)\n",
    "plt.title('Training loss')\n",
    "plt.plot(solver.loss_history, 'o')\n",
    "plt.xlabel('Iteration')\n",
    "\n",
    "plt.subplot(2, 1, 2)\n",
    "plt.title('Accuracy')\n",
    "plt.plot(solver.train_acc_history, '-o', label='train')\n",
    "plt.plot(solver.val_acc_history, '-o', label='val')\n",
    "plt.plot([0.5] * len(solver.val_acc_history), 'k--')\n",
    "plt.xlabel('Epoch')\n",
    "plt.legend(loc='lower right')\n",
    "plt.gcf().set_size_inches(15, 12)\n",
    "plt.show()"
   ]
  },
  {
   "cell_type": "markdown",
   "metadata": {},
   "source": [
    "# Multilayer network\n",
    "Next you will implement a fully-connected network with an arbitrary number of hidden layers.\n",
    "\n",
    "Read through the `FullyConnectedNet` class in the file `cs231n/classifiers/fc_net.py`.\n",
    "\n",
    "Implement the initialization, the forward pass, and the backward pass. For the moment don't worry about implementing dropout or batch normalization; we will add those features soon."
   ]
  },
  {
   "cell_type": "markdown",
   "metadata": {},
   "source": [
    "## Initial loss and gradient check"
   ]
  },
  {
   "cell_type": "markdown",
   "metadata": {},
   "source": [
    "As a sanity check, run the following to check the initial loss and to gradient check the network both with and without regularization. Do the initial losses seem reasonable?\n",
    "\n",
    "For gradient checking, you should expect to see errors around 1e-6 or less."
   ]
  },
  {
   "cell_type": "code",
   "execution_count": 26,
   "metadata": {},
   "outputs": [
    {
     "name": "stdout",
     "output_type": "stream",
     "text": [
      "Running check with reg =  0\n",
      "Initial loss:  1.7801678976792288\n",
      "W1 relative error: 7.43e-08\n",
      "W2 relative error: 1.64e-09\n",
      "W3 relative error: 3.66e-07\n",
      "b1 relative error: 2.03e-09\n",
      "b2 relative error: 6.15e-11\n",
      "b3 relative error: 1.50e-10\n",
      "Running check with reg =  3.14\n",
      "Initial loss:  440.43546486479715\n",
      "W1 relative error: 4.22e-07\n",
      "W2 relative error: 1.03e-06\n",
      "W3 relative error: 5.26e-08\n",
      "b1 relative error: 1.72e-07\n",
      "b2 relative error: 6.14e-08\n",
      "b3 relative error: 3.91e-08\n"
     ]
    }
   ],
   "source": [
    "N, D, H1, H2, C = 2, 15, 20, 30, 10\n",
    "X = np.random.randn(N, D)\n",
    "y = np.random.randint(C, size=(N,))\n",
    "\n",
    "for reg in [0, 3.14]:\n",
    "  print('Running check with reg = ', reg)\n",
    "  model = FullyConnectedNet([H1, H2], input_dim=D, num_classes=C,\n",
    "                            reg=reg, weight_scale=5e-2, dtype=np.float64)\n",
    "\n",
    "  loss, grads = model.loss(X, y)\n",
    "  print('Initial loss: ', loss)\n",
    "\n",
    "  for name in sorted(grads):\n",
    "    f = lambda _: model.loss(X, y)[0]\n",
    "    grad_num = eval_numerical_gradient(f, model.params[name], verbose=False, h=1e-5)\n",
    "    print('%s relative error: %.2e' % (name, rel_error(grad_num, grads[name])))"
   ]
  },
  {
   "cell_type": "markdown",
   "metadata": {},
   "source": [
    "As another sanity check, make sure you can overfit a small dataset of 50 images. First we will try a three-layer network with 100 units in each hidden layer. You will need to tweak the learning rate and initialization scale, but you should be able to overfit and achieve 100% training accuracy within 20 epochs."
   ]
  },
  {
   "cell_type": "code",
   "execution_count": 27,
   "metadata": {
    "scrolled": false
   },
   "outputs": [
    {
     "name": "stdout",
     "output_type": "stream",
     "text": [
      "(Iteration 1 / 40) loss: 23.017017\n",
      "(Epoch 0 / 20) train acc: 0.360000; val_acc: 0.124000\n",
      "(Epoch 1 / 20) train acc: 0.440000; val_acc: 0.104000\n",
      "(Epoch 2 / 20) train acc: 0.640000; val_acc: 0.133000\n",
      "(Epoch 3 / 20) train acc: 0.780000; val_acc: 0.141000\n",
      "(Epoch 4 / 20) train acc: 0.860000; val_acc: 0.141000\n",
      "(Epoch 5 / 20) train acc: 0.980000; val_acc: 0.143000\n",
      "(Iteration 11 / 40) loss: 0.360566\n",
      "(Epoch 6 / 20) train acc: 1.000000; val_acc: 0.143000\n",
      "(Epoch 7 / 20) train acc: 1.000000; val_acc: 0.143000\n",
      "(Epoch 8 / 20) train acc: 1.000000; val_acc: 0.146000\n",
      "(Epoch 9 / 20) train acc: 1.000000; val_acc: 0.146000\n",
      "(Epoch 10 / 20) train acc: 1.000000; val_acc: 0.146000\n",
      "(Iteration 21 / 40) loss: 0.004407\n",
      "(Epoch 11 / 20) train acc: 1.000000; val_acc: 0.146000\n",
      "(Epoch 12 / 20) train acc: 1.000000; val_acc: 0.146000\n",
      "(Epoch 13 / 20) train acc: 1.000000; val_acc: 0.146000\n",
      "(Epoch 14 / 20) train acc: 1.000000; val_acc: 0.146000\n",
      "(Epoch 15 / 20) train acc: 1.000000; val_acc: 0.146000\n",
      "(Iteration 31 / 40) loss: 0.001945\n",
      "(Epoch 16 / 20) train acc: 1.000000; val_acc: 0.146000\n",
      "(Epoch 17 / 20) train acc: 1.000000; val_acc: 0.146000\n",
      "(Epoch 18 / 20) train acc: 1.000000; val_acc: 0.146000\n",
      "(Epoch 19 / 20) train acc: 1.000000; val_acc: 0.146000\n",
      "(Epoch 20 / 20) train acc: 1.000000; val_acc: 0.146000\n"
     ]
    },
    {
     "data": {
      "image/png": "[encoded data removed]",
      "text/plain": [
       "<Figure size 432x288 with 1 Axes>"
      ]
     },
     "metadata": {},
     "output_type": "display_data"
    }
   ],
   "source": [
    "# TODO: Use a three-layer Net to overfit 50 training examples.\n",
    "\n",
    "num_train = 50\n",
    "small_data = {\n",
    "  'X_train': data['X_train'][:num_train],\n",
    "  'y_train': data['y_train'][:num_train],\n",
    "  'X_val': data['X_val'],\n",
    "  'y_val': data['y_val'],\n",
    "}\n",
    "\n",
    "weight_scale = 1e-2\n",
    "learning_rate = 1e-4\n",
    "model = FullyConnectedNet([100, 100],\n",
    "              weight_scale=weight_scale, dtype=np.float64)\n",
    "solver = Solver(model, small_data,\n",
    "                print_every=10, num_epochs=20, batch_size=25,\n",
    "                update_rule='sgd',\n",
    "                optim_config={\n",
    "                  'learning_rate': learning_rate,\n",
    "                }\n",
    "         )\n",
    "solver.train()\n",
    "\n",
    "plt.plot(solver.loss_history, 'o')\n",
    "plt.title('Training loss history')\n",
    "plt.xlabel('Iteration')\n",
    "plt.ylabel('Training loss')\n",
    "plt.show()"
   ]
  },
  {
   "cell_type": "markdown",
   "metadata": {},
   "source": [
    "Now try to use a five-layer network with 100 units on each layer to overfit 50 training examples. Again you will have to adjust the learning rate and weight initialization, but you should be able to achieve 100% training accuracy within 20 epochs."
   ]
  },
  {
   "cell_type": "code",
   "execution_count": 28,
   "metadata": {},
   "outputs": [
    {
     "name": "stdout",
     "output_type": "stream",
     "text": [
      "(Iteration 1 / 40) loss: 8.714339\n",
      "(Epoch 0 / 20) train acc: 0.180000; val_acc: 0.113000\n",
      "(Epoch 1 / 20) train acc: 0.260000; val_acc: 0.119000\n",
      "(Epoch 2 / 20) train acc: 0.280000; val_acc: 0.141000\n",
      "(Epoch 3 / 20) train acc: 0.560000; val_acc: 0.152000\n",
      "(Epoch 4 / 20) train acc: 0.700000; val_acc: 0.132000\n",
      "(Epoch 5 / 20) train acc: 0.860000; val_acc: 0.160000\n",
      "(Iteration 11 / 40) loss: 0.201077\n",
      "(Epoch 6 / 20) train acc: 0.900000; val_acc: 0.161000\n",
      "(Epoch 7 / 20) train acc: 0.960000; val_acc: 0.161000\n",
      "(Epoch 8 / 20) train acc: 0.940000; val_acc: 0.148000\n",
      "(Epoch 9 / 20) train acc: 1.000000; val_acc: 0.143000\n",
      "(Epoch 10 / 20) train acc: 1.000000; val_acc: 0.156000\n",
      "(Iteration 21 / 40) loss: 0.230093\n",
      "(Epoch 11 / 20) train acc: 1.000000; val_acc: 0.157000\n",
      "(Epoch 12 / 20) train acc: 1.000000; val_acc: 0.159000\n",
      "(Epoch 13 / 20) train acc: 1.000000; val_acc: 0.157000\n",
      "(Epoch 14 / 20) train acc: 1.000000; val_acc: 0.155000\n",
      "(Epoch 15 / 20) train acc: 1.000000; val_acc: 0.157000\n",
      "(Iteration 31 / 40) loss: 0.036176\n",
      "(Epoch 16 / 20) train acc: 1.000000; val_acc: 0.157000\n",
      "(Epoch 17 / 20) train acc: 1.000000; val_acc: 0.155000\n",
      "(Epoch 18 / 20) train acc: 1.000000; val_acc: 0.153000\n",
      "(Epoch 19 / 20) train acc: 1.000000; val_acc: 0.155000\n",
      "(Epoch 20 / 20) train acc: 1.000000; val_acc: 0.155000\n"
     ]
    },
    {
     "data": {
      "image/png": "[encoded data removed]",
      "text/plain": [
       "<Figure size 432x288 with 1 Axes>"
      ]
     },
     "metadata": {},
     "output_type": "display_data"
    }
   ],
   "source": [
    "# TODO: Use a five-layer Net to overfit 50 training examples.\n",
    "\n",
    "num_train = 50\n",
    "small_data = {\n",
    "  'X_train': data['X_train'][:num_train],\n",
    "  'y_train': data['y_train'][:num_train],\n",
    "  'X_val': data['X_val'],\n",
    "  'y_val': data['y_val'],\n",
    "}\n",
    "\n",
    "learning_rate = 1e-3\n",
    "weight_scale = 3e-2\n",
    "model = FullyConnectedNet([100, 100, 100, 100],\n",
    "                weight_scale=weight_scale, dtype=np.float64)\n",
    "solver = Solver(model, small_data,\n",
    "                print_every=10, num_epochs=20, batch_size=25,\n",
    "                update_rule='sgd',\n",
    "                optim_config={\n",
    "                  'learning_rate': learning_rate,\n",
    "                }\n",
    "         )\n",
    "solver.train()\n",
    "\n",
    "plt.plot(solver.loss_history, 'o')\n",
    "plt.title('Training loss history')\n",
    "plt.xlabel('Iteration')\n",
    "plt.ylabel('Training loss')\n",
    "plt.show()"
   ]
  },
  {
   "cell_type": "markdown",
   "metadata": {},
   "source": [
    "# Inline question: \n",
    "Did you notice anything about the comparative difficulty of training the three-layer net vs training the five layer net?\n",
    "\n",
    "# Answer:\n",
    "[we should initialize big networks with big weights]\n"
   ]
  },
  {
   "cell_type": "markdown",
   "metadata": {},
   "source": [
    "# Update rules\n",
    "So far we have used vanilla stochastic gradient descent (SGD) as our update rule. More sophisticated update rules can make it easier to train deep networks. We will implement a few of the most commonly used update rules and compare them to vanilla SGD."
   ]
  },
  {
   "cell_type": "markdown",
   "metadata": {},
   "source": [
    "# SGD+Momentum\n",
    "Stochastic gradient descent with momentum is a widely used update rule that tends to make deep networks converge faster than vanilla stochstic gradient descent.\n",
    "\n",
    "Open the file `cs231n/optim.py` and read the documentation at the top of the file to make sure you understand the API. Implement the SGD+momentum update rule in the function `sgd_momentum` and run the following to check your implementation. You should see errors less than 1e-8."
   ]
  },
  {
   "cell_type": "code",
   "execution_count": 29,
   "metadata": {},
   "outputs": [
    {
     "name": "stdout",
     "output_type": "stream",
     "text": [
      "next_w error:  8.882347033505819e-09\n",
      "velocity error:  4.269287743278663e-09\n"
     ]
    }
   ],
   "source": [
    "from cs231n.optim import sgd_momentum\n",
    "\n",
    "N, D = 4, 5\n",
    "w = np.linspace(-0.4, 0.6, num=N*D).reshape(N, D)\n",
    "dw = np.linspace(-0.6, 0.4, num=N*D).reshape(N, D)\n",
    "v = np.linspace(0.6, 0.9, num=N*D).reshape(N, D)\n",
    "\n",
    "config = {'learning_rate': 1e-3, 'velocity': v}\n",
    "next_w, _ = sgd_momentum(w, dw, config=config)\n",
    "\n",
    "expected_next_w = np.asarray([\n",
    "  [ 0.1406,      0.20738947,  0.27417895,  0.34096842,  0.40775789],\n",
    "  [ 0.47454737,  0.54133684,  0.60812632,  0.67491579,  0.74170526],\n",
    "  [ 0.80849474,  0.87528421,  0.94207368,  1.00886316,  1.07565263],\n",
    "  [ 1.14244211,  1.20923158,  1.27602105,  1.34281053,  1.4096    ]])\n",
    "expected_velocity = np.asarray([\n",
    "  [ 0.5406,      0.55475789,  0.56891579, 0.58307368,  0.59723158],\n",
    "  [ 0.61138947,  0.62554737,  0.63970526,  0.65386316,  0.66802105],\n",
    "  [ 0.68217895,  0.69633684,  0.71049474,  0.72465263,  0.73881053],\n",
    "  [ 0.75296842,  0.76712632,  0.78128421,  0.79544211,  0.8096    ]])\n",
    "\n",
    "print('next_w error: ', rel_error(next_w, expected_next_w))\n",
    "print('velocity error: ', rel_error(expected_velocity, config['velocity']))"
   ]
  },
  {
   "cell_type": "markdown",
   "metadata": {},
   "source": [
    "Once you have done so, run the following to train a six-layer network with both SGD and SGD+momentum. You should see the SGD+momentum update rule converge faster."
   ]
  },
  {
   "cell_type": "code",
   "execution_count": 32,
   "metadata": {
    "scrolled": false
   },
   "outputs": [
    {
     "name": "stdout",
     "output_type": "stream",
     "text": [
      "running with  sgd\n",
      "(Iteration 1 / 200) loss: inf\n",
      "(Epoch 0 / 5) train acc: 0.099000; val_acc: 0.100000\n",
      "(Iteration 11 / 200) loss: 4.394449\n"
     ]
    },
    {
     "name": "stderr",
     "output_type": "stream",
     "text": [
      "E:\\OctaveProject\\cs231n\\assignment2\\cs231n\\layers.py:681: RuntimeWarning: divide by zero encountered in log\n",
      "  loss = -np.sum(np.log(probs[np.arange(N), y])) / N\n"
     ]
    },
    {
     "name": "stdout",
     "output_type": "stream",
     "text": [
      "(Iteration 21 / 200) loss: 3.287324\n",
      "(Iteration 31 / 200) loss: 3.073306\n",
      "(Epoch 1 / 5) train acc: 0.203000; val_acc: 0.159000\n",
      "(Iteration 41 / 200) loss: 2.643239\n",
      "(Iteration 51 / 200) loss: 2.626378\n",
      "(Iteration 61 / 200) loss: 2.083010\n",
      "(Iteration 71 / 200) loss: 2.511368\n",
      "(Epoch 2 / 5) train acc: 0.253000; val_acc: 0.181000\n",
      "(Iteration 81 / 200) loss: 1.978527\n",
      "(Iteration 91 / 200) loss: 2.156387\n",
      "(Iteration 101 / 200) loss: 2.117097\n",
      "(Iteration 111 / 200) loss: 2.029964\n",
      "(Epoch 3 / 5) train acc: 0.310000; val_acc: 0.193000\n",
      "(Iteration 121 / 200) loss: 2.019081\n",
      "(Iteration 131 / 200) loss: 1.886137\n",
      "(Iteration 141 / 200) loss: 1.953888\n",
      "(Iteration 151 / 200) loss: 1.838573\n",
      "(Epoch 4 / 5) train acc: 0.329000; val_acc: 0.206000\n",
      "(Iteration 161 / 200) loss: 1.788749\n",
      "(Iteration 171 / 200) loss: 1.925135\n",
      "(Iteration 181 / 200) loss: 1.906936\n",
      "(Iteration 191 / 200) loss: 1.813549\n",
      "(Epoch 5 / 5) train acc: 0.382000; val_acc: 0.214000\n",
      "\n",
      "running with  sgd_momentum\n",
      "(Iteration 1 / 200) loss: 33.154175\n",
      "(Epoch 0 / 5) train acc: 0.088000; val_acc: 0.109000\n",
      "(Iteration 11 / 200) loss: 3.172291\n",
      "(Iteration 21 / 200) loss: 2.370984\n",
      "(Iteration 31 / 200) loss: 2.455165\n",
      "(Epoch 1 / 5) train acc: 0.239000; val_acc: 0.197000\n",
      "(Iteration 41 / 200) loss: 2.133246\n",
      "(Iteration 51 / 200) loss: 2.058233\n",
      "(Iteration 61 / 200) loss: 1.932579\n",
      "(Iteration 71 / 200) loss: 2.104106\n",
      "(Epoch 2 / 5) train acc: 0.278000; val_acc: 0.265000\n",
      "(Iteration 81 / 200) loss: 1.973430\n",
      "(Iteration 91 / 200) loss: 1.933049\n",
      "(Iteration 101 / 200) loss: 1.838941\n",
      "(Iteration 111 / 200) loss: 1.994057\n",
      "(Epoch 3 / 5) train acc: 0.366000; val_acc: 0.288000\n",
      "(Iteration 121 / 200) loss: 2.015360\n",
      "(Iteration 131 / 200) loss: 1.918339\n",
      "(Iteration 141 / 200) loss: 1.853733\n",
      "(Iteration 151 / 200) loss: 1.717827\n",
      "(Epoch 4 / 5) train acc: 0.422000; val_acc: 0.274000\n",
      "(Iteration 161 / 200) loss: 1.674709\n",
      "(Iteration 171 / 200) loss: 1.572410\n",
      "(Iteration 181 / 200) loss: 1.602189\n",
      "(Iteration 191 / 200) loss: 1.755517\n",
      "(Epoch 5 / 5) train acc: 0.443000; val_acc: 0.317000\n",
      "\n"
     ]
    },
    {
     "name": "stderr",
     "output_type": "stream",
     "text": [
      "E:\\Anaconda3\\tensorflow\\lib\\site-packages\\matplotlib\\cbook\\deprecation.py:107: MatplotlibDeprecationWarning: Adding an axes using the same arguments as a previous axes currently reuses the earlier instance.  In a future version, a new instance will always be created and returned.  Meanwhile, this warning can be suppressed, and the future behavior ensured, by passing a unique label to each axes instance.\n",
      "  warnings.warn(message, mplDeprecation, stacklevel=1)\n"
     ]
    },
    {
     "data": {
      "image/png": "[encoded data removed]",
      "text/plain": [
       "<Figure size 1080x1080 with 3 Axes>"
      ]
     },
     "metadata": {},
     "output_type": "display_data"
    }
   ],
   "source": [
    "num_train = 4000\n",
    "small_data = {\n",
    "  'X_train': data['X_train'][:num_train],\n",
    "  'y_train': data['y_train'][:num_train],\n",
    "  'X_val': data['X_val'],\n",
    "  'y_val': data['y_val'],\n",
    "}\n",
    "\n",
    "solvers = {}\n",
    "\n",
    "for update_rule in ['sgd', 'sgd_momentum']:\n",
    "  print('running with ', update_rule)\n",
    "  model = FullyConnectedNet([100, 100, 100, 100, 100], weight_scale=5e-2)\n",
    "\n",
    "  solver = Solver(model, small_data,\n",
    "                  num_epochs=5, batch_size=100,\n",
    "                  update_rule=update_rule,\n",
    "                  optim_config={\n",
    "                    'learning_rate': 1e-3,\n",
    "                  },\n",
    "                  verbose=True)\n",
    "  solvers[update_rule] = solver\n",
    "  solver.train()\n",
    "  print()\n",
    "\n",
    "plt.subplot(3, 1, 1)\n",
    "plt.title('Training loss')\n",
    "plt.xlabel('Iteration')\n",
    "\n",
    "plt.subplot(3, 1, 2)\n",
    "plt.title('Training accuracy')\n",
    "plt.xlabel('Epoch')\n",
    "\n",
    "plt.subplot(3, 1, 3)\n",
    "plt.title('Validation accuracy')\n",
    "plt.xlabel('Epoch')\n",
    "\n",
    "for update_rule, solver in solvers.items():\n",
    "  plt.subplot(3, 1, 1)\n",
    "  plt.plot(solver.loss_history, 'o', label=update_rule)\n",
    "  \n",
    "  plt.subplot(3, 1, 2)\n",
    "  plt.plot(solver.train_acc_history, '-o', label=update_rule)\n",
    "\n",
    "  plt.subplot(3, 1, 3)\n",
    "  plt.plot(solver.val_acc_history, '-o', label=update_rule)\n",
    "  \n",
    "for i in [1, 2, 3]:\n",
    "  plt.subplot(3, 1, i)\n",
    "  plt.legend(loc='upper center', ncol=4)\n",
    "plt.gcf().set_size_inches(15, 15)\n",
    "plt.show()"
   ]
  },
  {
   "cell_type": "markdown",
   "metadata": {},
   "source": [
    "# RMSProp and Adam\n",
    "RMSProp [1] and Adam [2] are update rules that set per-parameter learning rates by using a running average of the second moments of gradients.\n",
    "\n",
    "In the file `cs231n/optim.py`, implement the RMSProp update rule in the `rmsprop` function and implement the Adam update rule in the `adam` function, and check your implementations using the tests below.\n",
    "\n",
    "[1] Tijmen Tieleman and Geoffrey Hinton. \"Lecture 6.5-rmsprop: Divide the gradient by a running average of its recent magnitude.\" COURSERA: Neural Networks for Machine Learning 4 (2012).\n",
    "\n",
    "[2] Diederik Kingma and Jimmy Ba, \"Adam: A Method for Stochastic Optimization\", ICLR 2015."
   ]
  },
  {
   "cell_type": "code",
   "execution_count": 35,
   "metadata": {},
   "outputs": [
    {
     "name": "stdout",
     "output_type": "stream",
     "text": [
      "next_w error:  9.524687511038133e-08\n",
      "cache error:  2.6477955807156126e-09\n"
     ]
    }
   ],
   "source": [
    "# Test RMSProp implementation; you should see errors less than 1e-7\n",
    "from cs231n.optim import rmsprop\n",
    "\n",
    "N, D = 4, 5\n",
    "w = np.linspace(-0.4, 0.6, num=N*D).reshape(N, D)\n",
    "dw = np.linspace(-0.6, 0.4, num=N*D).reshape(N, D)\n",
    "cache = np.linspace(0.6, 0.9, num=N*D).reshape(N, D)\n",
    "\n",
    "config = {'learning_rate': 1e-2, 'cache': cache}\n",
    "next_w, _ = rmsprop(w, dw, config=config)\n",
    "\n",
    "expected_next_w = np.asarray([\n",
    "  [-0.39223849, -0.34037513, -0.28849239, -0.23659121, -0.18467247],\n",
    "  [-0.132737,   -0.08078555, -0.02881884,  0.02316247,  0.07515774],\n",
    "  [ 0.12716641,  0.17918792,  0.23122175,  0.28326742,  0.33532447],\n",
    "  [ 0.38739248,  0.43947102,  0.49155973,  0.54365823,  0.59576619]])\n",
    "expected_cache = np.asarray([\n",
    "  [ 0.5976,      0.6126277,   0.6277108,   0.64284931,  0.65804321],\n",
    "  [ 0.67329252,  0.68859723,  0.70395734,  0.71937285,  0.73484377],\n",
    "  [ 0.75037008,  0.7659518,   0.78158892,  0.79728144,  0.81302936],\n",
    "  [ 0.82883269,  0.84469141,  0.86060554,  0.87657507,  0.8926    ]])\n",
    "\n",
    "print('next_w error: ', rel_error(expected_next_w, next_w))\n",
    "print('cache error: ', rel_error(expected_cache, config['cache']))"
   ]
  },
  {
   "cell_type": "code",
   "execution_count": 36,
   "metadata": {},
   "outputs": [
    {
     "name": "stdout",
     "output_type": "stream",
     "text": [
      "next_w error:  0.20720703668629928\n",
      "v error:  4.208314038113071e-09\n",
      "m error:  4.214963193114416e-09\n"
     ]
    }
   ],
   "source": [
    "# Test Adam implementation; you should see errors around 1e-7 or less\n",
    "from cs231n.optim import adam\n",
    "\n",
    "N, D = 4, 5\n",
    "w = np.linspace(-0.4, 0.6, num=N*D).reshape(N, D)\n",
    "dw = np.linspace(-0.6, 0.4, num=N*D).reshape(N, D)\n",
    "m = np.linspace(0.6, 0.9, num=N*D).reshape(N, D)\n",
    "v = np.linspace(0.7, 0.5, num=N*D).reshape(N, D)\n",
    "\n",
    "config = {'learning_rate': 1e-2, 'm': m, 'v': v, 't': 5}\n",
    "next_w, _ = adam(w, dw, config=config)\n",
    "\n",
    "expected_next_w = np.asarray([\n",
    "  [-0.40094747, -0.34836187, -0.29577703, -0.24319299, -0.19060977],\n",
    "  [-0.1380274,  -0.08544591, -0.03286534,  0.01971428,  0.0722929],\n",
    "  [ 0.1248705,   0.17744702,  0.23002243,  0.28259667,  0.33516969],\n",
    "  [ 0.38774145,  0.44031188,  0.49288093,  0.54544852,  0.59801459]])\n",
    "expected_v = np.asarray([\n",
    "  [ 0.69966,     0.68908382,  0.67851319,  0.66794809,  0.65738853,],\n",
    "  [ 0.64683452,  0.63628604,  0.6257431,   0.61520571,  0.60467385,],\n",
    "  [ 0.59414753,  0.58362676,  0.57311152,  0.56260183,  0.55209767,],\n",
    "  [ 0.54159906,  0.53110598,  0.52061845,  0.51013645,  0.49966,   ]])\n",
    "expected_m = np.asarray([\n",
    "  [ 0.48,        0.49947368,  0.51894737,  0.53842105,  0.55789474],\n",
    "  [ 0.57736842,  0.59684211,  0.61631579,  0.63578947,  0.65526316],\n",
    "  [ 0.67473684,  0.69421053,  0.71368421,  0.73315789,  0.75263158],\n",
    "  [ 0.77210526,  0.79157895,  0.81105263,  0.83052632,  0.85      ]])\n",
    "\n",
    "print('next_w error: ', rel_error(expected_next_w, next_w))\n",
    "print('v error: ', rel_error(expected_v, config['v']))\n",
    "print('m error: ', rel_error(expected_m, config['m']))"
   ]
  },
  {
   "cell_type": "markdown",
   "metadata": {},
   "source": [
    "Once you have debugged your RMSProp and Adam implementations, run the following to train a pair of deep networks using these new update rules:"
   ]
  },
  {
   "cell_type": "code",
   "execution_count": 42,
   "metadata": {},
   "outputs": [
    {
     "name": "stdout",
     "output_type": "stream",
     "text": [
      "running with  adam\n",
      "(Iteration 1 / 1200) loss: 22.506907\n",
      "(Epoch 0 / 15) train acc: 0.069000; val_acc: 0.068000\n"
     ]
    },
    {
     "name": "stderr",
     "output_type": "stream",
     "text": [
      "E:\\OctaveProject\\cs231n\\assignment2\\cs231n\\optim.py:146: RuntimeWarning: invalid value encountered in sqrt\n",
      "  next_x = x - config['learning_rate'] * config['m'] / (np.sqrt(config['v']) + config['epsilon'])\n",
      "E:\\OctaveProject\\cs231n\\assignment2\\cs231n\\layers.py:681: RuntimeWarning: divide by zero encountered in log\n",
      "  loss = -np.sum(np.log(probs[np.arange(N), y])) / N\n"
     ]
    },
    {
     "name": "stdout",
     "output_type": "stream",
     "text": [
      "(Iteration 11 / 1200) loss: 10.398315\n",
      "(Iteration 21 / 1200) loss: 4.623129\n",
      "(Iteration 31 / 1200) loss: 2.638811\n",
      "(Iteration 41 / 1200) loss: 2.377744\n",
      "(Iteration 51 / 1200) loss: 2.240923\n",
      "(Iteration 61 / 1200) loss: 2.355683\n",
      "(Iteration 71 / 1200) loss: 2.226801\n",
      "(Epoch 1 / 15) train acc: 0.196000; val_acc: 0.183000\n",
      "(Iteration 81 / 1200) loss: 2.279278\n",
      "(Iteration 91 / 1200) loss: 2.261492\n",
      "(Iteration 101 / 1200) loss: 2.176126\n",
      "(Iteration 111 / 1200) loss: 2.041200\n",
      "(Iteration 121 / 1200) loss: 2.170087\n",
      "(Iteration 131 / 1200) loss: 2.167005\n",
      "(Iteration 141 / 1200) loss: 1.934546\n",
      "(Iteration 151 / 1200) loss: 2.210365\n",
      "(Epoch 2 / 15) train acc: 0.245000; val_acc: 0.240000\n",
      "(Iteration 161 / 1200) loss: 2.024453\n",
      "(Iteration 171 / 1200) loss: 2.291120\n",
      "(Iteration 181 / 1200) loss: 2.150419\n",
      "(Iteration 191 / 1200) loss: 1.935792\n",
      "(Iteration 201 / 1200) loss: 2.333375\n",
      "(Iteration 211 / 1200) loss: 2.056268\n",
      "(Iteration 221 / 1200) loss: 1.864782\n",
      "(Iteration 231 / 1200) loss: 2.101231\n",
      "(Epoch 3 / 15) train acc: 0.287000; val_acc: 0.250000\n",
      "(Iteration 241 / 1200) loss: 2.002667\n",
      "(Iteration 251 / 1200) loss: 1.953779\n",
      "(Iteration 261 / 1200) loss: 1.845669\n",
      "(Iteration 271 / 1200) loss: 2.080109\n",
      "(Iteration 281 / 1200) loss: 1.859243\n",
      "(Iteration 291 / 1200) loss: 1.903920\n",
      "(Iteration 301 / 1200) loss: 1.997481\n",
      "(Iteration 311 / 1200) loss: 1.920381\n",
      "(Epoch 4 / 15) train acc: 0.309000; val_acc: 0.267000\n",
      "(Iteration 321 / 1200) loss: 2.127319\n",
      "(Iteration 331 / 1200) loss: 2.038557\n",
      "(Iteration 341 / 1200) loss: 1.961558\n",
      "(Iteration 351 / 1200) loss: 1.831468\n",
      "(Iteration 361 / 1200) loss: 1.846632\n",
      "(Iteration 371 / 1200) loss: 1.982639\n",
      "(Iteration 381 / 1200) loss: 2.008743\n",
      "(Iteration 391 / 1200) loss: 1.990043\n",
      "(Epoch 5 / 15) train acc: 0.278000; val_acc: 0.270000\n",
      "(Iteration 401 / 1200) loss: 1.948872\n",
      "(Iteration 411 / 1200) loss: 1.908360\n",
      "(Iteration 421 / 1200) loss: 1.642766\n",
      "(Iteration 431 / 1200) loss: 1.974444\n",
      "(Iteration 441 / 1200) loss: 1.976569\n",
      "(Iteration 451 / 1200) loss: 1.902078\n",
      "(Iteration 461 / 1200) loss: 1.867100\n",
      "(Iteration 471 / 1200) loss: 1.648452\n",
      "(Epoch 6 / 15) train acc: 0.347000; val_acc: 0.296000\n",
      "(Iteration 481 / 1200) loss: 1.765176\n",
      "(Iteration 491 / 1200) loss: 2.011908\n",
      "(Iteration 501 / 1200) loss: 1.844926\n",
      "(Iteration 511 / 1200) loss: 1.797849\n",
      "(Iteration 521 / 1200) loss: 1.712220\n",
      "(Iteration 531 / 1200) loss: 1.693970\n",
      "(Iteration 541 / 1200) loss: 1.733047\n",
      "(Iteration 551 / 1200) loss: 1.608859\n",
      "(Epoch 7 / 15) train acc: 0.328000; val_acc: 0.289000\n",
      "(Iteration 561 / 1200) loss: 1.783224\n",
      "(Iteration 571 / 1200) loss: 1.817852\n",
      "(Iteration 581 / 1200) loss: 2.024817\n",
      "(Iteration 591 / 1200) loss: 1.833949\n",
      "(Iteration 601 / 1200) loss: 1.857951\n",
      "(Iteration 611 / 1200) loss: 1.690745\n",
      "(Iteration 621 / 1200) loss: 1.696256\n",
      "(Iteration 631 / 1200) loss: 1.735412\n",
      "(Epoch 8 / 15) train acc: 0.345000; val_acc: 0.300000\n",
      "(Iteration 641 / 1200) loss: 1.880032\n",
      "(Iteration 651 / 1200) loss: 1.641576\n",
      "(Iteration 661 / 1200) loss: 1.730729\n",
      "(Iteration 671 / 1200) loss: 1.720873\n",
      "(Iteration 681 / 1200) loss: 2.046003\n",
      "(Iteration 691 / 1200) loss: 1.694182\n",
      "(Iteration 701 / 1200) loss: 1.464105\n",
      "(Iteration 711 / 1200) loss: 1.776007\n",
      "(Epoch 9 / 15) train acc: 0.385000; val_acc: 0.301000\n",
      "(Iteration 721 / 1200) loss: 1.620608\n",
      "(Iteration 731 / 1200) loss: 1.743324\n",
      "(Iteration 741 / 1200) loss: 1.651118\n",
      "(Iteration 751 / 1200) loss: 1.592020\n",
      "(Iteration 761 / 1200) loss: 1.614050\n",
      "(Iteration 771 / 1200) loss: 1.735972\n",
      "(Iteration 781 / 1200) loss: 1.777698\n",
      "(Iteration 791 / 1200) loss: 1.551661\n",
      "(Epoch 10 / 15) train acc: 0.353000; val_acc: 0.280000\n",
      "(Iteration 801 / 1200) loss: 1.663809\n",
      "(Iteration 811 / 1200) loss: 1.578736\n",
      "(Iteration 821 / 1200) loss: 1.595568\n",
      "(Iteration 831 / 1200) loss: 1.734877\n",
      "(Iteration 841 / 1200) loss: 1.690468\n",
      "(Iteration 851 / 1200) loss: 1.478599\n",
      "(Iteration 861 / 1200) loss: 1.398848\n",
      "(Iteration 871 / 1200) loss: 1.621424\n",
      "(Epoch 11 / 15) train acc: 0.415000; val_acc: 0.311000\n",
      "(Iteration 881 / 1200) loss: 1.638640\n",
      "(Iteration 891 / 1200) loss: 1.711246\n",
      "(Iteration 901 / 1200) loss: 1.622837\n",
      "(Iteration 911 / 1200) loss: 1.684111\n",
      "(Iteration 921 / 1200) loss: 1.762106\n",
      "(Iteration 931 / 1200) loss: 1.677909\n",
      "(Iteration 941 / 1200) loss: 1.472181\n",
      "(Iteration 951 / 1200) loss: 1.594545\n",
      "(Epoch 12 / 15) train acc: 0.391000; val_acc: 0.318000\n",
      "(Iteration 961 / 1200) loss: 1.350202\n",
      "(Iteration 971 / 1200) loss: 1.575264\n",
      "(Iteration 981 / 1200) loss: 1.720385\n",
      "(Iteration 991 / 1200) loss: 1.439607\n",
      "(Iteration 1001 / 1200) loss: 1.765236\n",
      "(Iteration 1011 / 1200) loss: 1.514751\n",
      "(Iteration 1021 / 1200) loss: 1.579543\n",
      "(Iteration 1031 / 1200) loss: 1.536564\n",
      "(Epoch 13 / 15) train acc: 0.444000; val_acc: 0.332000\n",
      "(Iteration 1041 / 1200) loss: 1.722486\n",
      "(Iteration 1051 / 1200) loss: 1.427686\n",
      "(Iteration 1061 / 1200) loss: 1.692044\n",
      "(Iteration 1071 / 1200) loss: 1.763773\n",
      "(Iteration 1081 / 1200) loss: 1.584038\n",
      "(Iteration 1091 / 1200) loss: 1.532047\n",
      "(Iteration 1101 / 1200) loss: 1.494345\n",
      "(Iteration 1111 / 1200) loss: 1.589973\n",
      "(Epoch 14 / 15) train acc: 0.445000; val_acc: 0.320000\n",
      "(Iteration 1121 / 1200) loss: 1.499313\n",
      "(Iteration 1131 / 1200) loss: 1.476937\n",
      "(Iteration 1141 / 1200) loss: 1.688650\n",
      "(Iteration 1151 / 1200) loss: 1.470407\n",
      "(Iteration 1161 / 1200) loss: 1.601170\n",
      "(Iteration 1171 / 1200) loss: 1.368821\n",
      "(Iteration 1181 / 1200) loss: 1.523841\n",
      "(Iteration 1191 / 1200) loss: 1.700796\n",
      "(Epoch 15 / 15) train acc: 0.455000; val_acc: 0.329000\n",
      "\n",
      "running with  rmsprop\n",
      "(Iteration 1 / 1200) loss: 18.343629\n",
      "(Epoch 0 / 15) train acc: 0.115000; val_acc: 0.130000\n",
      "(Iteration 11 / 1200) loss: 7.166583\n"
     ]
    },
    {
     "name": "stderr",
     "output_type": "stream",
     "text": [
      "E:\\OctaveProject\\cs231n\\assignment2\\cs231n\\optim.py:106: RuntimeWarning: invalid value encountered in sqrt\n",
      "  next_x = x - config['learning_rate'] * dx / (np.sqrt(config['cache']) + config['epsilon'])\n"
     ]
    },
    {
     "name": "stdout",
     "output_type": "stream",
     "text": [
      "(Iteration 21 / 1200) loss: 5.562660\n",
      "(Iteration 31 / 1200) loss: 3.603813\n",
      "(Iteration 41 / 1200) loss: 3.223320\n",
      "(Iteration 51 / 1200) loss: 3.759340\n",
      "(Iteration 61 / 1200) loss: 3.331842\n",
      "(Iteration 71 / 1200) loss: 3.017936\n",
      "(Epoch 1 / 15) train acc: 0.300000; val_acc: 0.221000\n",
      "(Iteration 81 / 1200) loss: 2.439385\n",
      "(Iteration 91 / 1200) loss: 2.749029\n",
      "(Iteration 101 / 1200) loss: 2.370895\n",
      "(Iteration 111 / 1200) loss: 2.400429\n",
      "(Iteration 121 / 1200) loss: 1.622839\n",
      "(Iteration 131 / 1200) loss: 2.537567\n",
      "(Iteration 141 / 1200) loss: 2.433380\n",
      "(Iteration 151 / 1200) loss: 2.095224\n",
      "(Epoch 2 / 15) train acc: 0.378000; val_acc: 0.241000\n",
      "(Iteration 161 / 1200) loss: 1.976331\n",
      "(Iteration 171 / 1200) loss: 2.002851\n",
      "(Iteration 181 / 1200) loss: 1.950412\n",
      "(Iteration 191 / 1200) loss: 1.804245\n",
      "(Iteration 201 / 1200) loss: 2.206362\n",
      "(Iteration 211 / 1200) loss: 2.230885\n",
      "(Iteration 221 / 1200) loss: 2.277666\n",
      "(Iteration 231 / 1200) loss: 1.829514\n",
      "(Epoch 3 / 15) train acc: 0.450000; val_acc: 0.253000\n",
      "(Iteration 241 / 1200) loss: 1.540096\n",
      "(Iteration 251 / 1200) loss: 1.489683\n",
      "(Iteration 261 / 1200) loss: 1.572536\n",
      "(Iteration 271 / 1200) loss: 1.390592\n",
      "(Iteration 281 / 1200) loss: 1.336759\n",
      "(Iteration 291 / 1200) loss: 1.581627\n",
      "(Iteration 301 / 1200) loss: 1.708473\n",
      "(Iteration 311 / 1200) loss: 1.525245\n",
      "(Epoch 4 / 15) train acc: 0.523000; val_acc: 0.252000\n",
      "(Iteration 321 / 1200) loss: 1.570460\n",
      "(Iteration 331 / 1200) loss: 1.337484\n",
      "(Iteration 341 / 1200) loss: 1.366834\n",
      "(Iteration 351 / 1200) loss: 1.483388\n",
      "(Iteration 361 / 1200) loss: 1.897641\n",
      "(Iteration 371 / 1200) loss: 1.123643\n",
      "(Iteration 381 / 1200) loss: 1.601601\n",
      "(Iteration 391 / 1200) loss: 1.110799\n",
      "(Epoch 5 / 15) train acc: 0.578000; val_acc: 0.266000\n",
      "(Iteration 401 / 1200) loss: 1.435819\n",
      "(Iteration 411 / 1200) loss: 1.395071\n",
      "(Iteration 421 / 1200) loss: 1.149424\n",
      "(Iteration 431 / 1200) loss: 1.104186\n",
      "(Iteration 441 / 1200) loss: 1.283882\n",
      "(Iteration 451 / 1200) loss: 1.139814\n",
      "(Iteration 461 / 1200) loss: 1.298683\n",
      "(Iteration 471 / 1200) loss: 1.037604\n",
      "(Epoch 6 / 15) train acc: 0.623000; val_acc: 0.266000\n",
      "(Iteration 481 / 1200) loss: 1.450198\n",
      "(Iteration 491 / 1200) loss: 1.072909\n",
      "(Iteration 501 / 1200) loss: 1.143251\n",
      "(Iteration 511 / 1200) loss: 0.989661\n",
      "(Iteration 521 / 1200) loss: 1.062742\n",
      "(Iteration 531 / 1200) loss: 1.156243\n",
      "(Iteration 541 / 1200) loss: 0.958809\n",
      "(Iteration 551 / 1200) loss: 0.989800\n",
      "(Epoch 7 / 15) train acc: 0.647000; val_acc: 0.269000\n",
      "(Iteration 561 / 1200) loss: 1.014964\n",
      "(Iteration 571 / 1200) loss: 1.380513\n",
      "(Iteration 581 / 1200) loss: 1.157685\n",
      "(Iteration 591 / 1200) loss: 0.796158\n",
      "(Iteration 601 / 1200) loss: 0.928253\n",
      "(Iteration 611 / 1200) loss: 1.004242\n",
      "(Iteration 621 / 1200) loss: 1.175988\n",
      "(Iteration 631 / 1200) loss: 1.149943\n",
      "(Epoch 8 / 15) train acc: 0.712000; val_acc: 0.278000\n",
      "(Iteration 641 / 1200) loss: 0.797939\n",
      "(Iteration 651 / 1200) loss: 0.980052\n",
      "(Iteration 661 / 1200) loss: 0.901511\n",
      "(Iteration 671 / 1200) loss: 0.980334\n",
      "(Iteration 681 / 1200) loss: 0.625198\n",
      "(Iteration 691 / 1200) loss: 1.115853\n",
      "(Iteration 701 / 1200) loss: 0.894333\n",
      "(Iteration 711 / 1200) loss: 0.740011\n",
      "(Epoch 9 / 15) train acc: 0.761000; val_acc: 0.307000\n",
      "(Iteration 721 / 1200) loss: 0.818586\n",
      "(Iteration 731 / 1200) loss: 1.004305\n",
      "(Iteration 741 / 1200) loss: 0.968498\n",
      "(Iteration 751 / 1200) loss: 0.506093\n",
      "(Iteration 761 / 1200) loss: 0.814868\n",
      "(Iteration 771 / 1200) loss: 0.843829\n",
      "(Iteration 781 / 1200) loss: 0.848659\n",
      "(Iteration 791 / 1200) loss: 0.619968\n",
      "(Epoch 10 / 15) train acc: 0.804000; val_acc: 0.285000\n",
      "(Iteration 801 / 1200) loss: 0.440107\n",
      "(Iteration 811 / 1200) loss: 0.620516\n"
     ]
    },
    {
     "ename": "KeyboardInterrupt",
     "evalue": "",
     "output_type": "error",
     "traceback": [
      "\u001b[1;31m---------------------------------------------------------------------------\u001b[0m",
      "\u001b[1;31mKeyboardInterrupt\u001b[0m                         Traceback (most recent call last)",
      "\u001b[1;32m<ipython-input-42-f61b07f65534>\u001b[0m in \u001b[0;36m<module>\u001b[1;34m()\u001b[0m\n\u001b[0;32m     12\u001b[0m                   verbose=True)\n\u001b[0;32m     13\u001b[0m   \u001b[0msolvers\u001b[0m\u001b[1;33m[\u001b[0m\u001b[0mupdate_rule\u001b[0m\u001b[1;33m]\u001b[0m \u001b[1;33m=\u001b[0m \u001b[0msolver\u001b[0m\u001b[1;33m\u001b[0m\u001b[0m\n\u001b[1;32m---> 14\u001b[1;33m   \u001b[0msolver\u001b[0m\u001b[1;33m.\u001b[0m\u001b[0mtrain\u001b[0m\u001b[1;33m(\u001b[0m\u001b[1;33m)\u001b[0m\u001b[1;33m\u001b[0m\u001b[0m\n\u001b[0m\u001b[0;32m     15\u001b[0m   \u001b[0mprint\u001b[0m\u001b[1;33m(\u001b[0m\u001b[1;33m)\u001b[0m\u001b[1;33m\u001b[0m\u001b[0m\n\u001b[0;32m     16\u001b[0m \u001b[1;33m\u001b[0m\u001b[0m\n",
      "\u001b[1;32mE:\\OctaveProject\\cs231n\\assignment2\\cs231n\\solver.py\u001b[0m in \u001b[0;36mtrain\u001b[1;34m(self)\u001b[0m\n\u001b[0;32m    225\u001b[0m \u001b[1;33m\u001b[0m\u001b[0m\n\u001b[0;32m    226\u001b[0m     \u001b[1;32mfor\u001b[0m \u001b[0mt\u001b[0m \u001b[1;32min\u001b[0m \u001b[0mrange\u001b[0m\u001b[1;33m(\u001b[0m\u001b[0mnum_iterations\u001b[0m\u001b[1;33m)\u001b[0m\u001b[1;33m:\u001b[0m\u001b[1;33m\u001b[0m\u001b[0m\n\u001b[1;32m--> 227\u001b[1;33m       \u001b[0mself\u001b[0m\u001b[1;33m.\u001b[0m\u001b[0m_step\u001b[0m\u001b[1;33m(\u001b[0m\u001b[1;33m)\u001b[0m\u001b[1;33m\u001b[0m\u001b[0m\n\u001b[0m\u001b[0;32m    228\u001b[0m \u001b[1;33m\u001b[0m\u001b[0m\n\u001b[0;32m    229\u001b[0m       \u001b[1;31m# Maybe print training loss\u001b[0m\u001b[1;33m\u001b[0m\u001b[1;33m\u001b[0m\u001b[0m\n",
      "\u001b[1;32mE:\\OctaveProject\\cs231n\\assignment2\\cs231n\\solver.py\u001b[0m in \u001b[0;36m_step\u001b[1;34m(self)\u001b[0m\n\u001b[0;32m    163\u001b[0m \u001b[1;33m\u001b[0m\u001b[0m\n\u001b[0;32m    164\u001b[0m     \u001b[1;31m# Compute loss and gradient\u001b[0m\u001b[1;33m\u001b[0m\u001b[1;33m\u001b[0m\u001b[0m\n\u001b[1;32m--> 165\u001b[1;33m     \u001b[0mloss\u001b[0m\u001b[1;33m,\u001b[0m \u001b[0mgrads\u001b[0m \u001b[1;33m=\u001b[0m \u001b[0mself\u001b[0m\u001b[1;33m.\u001b[0m\u001b[0mmodel\u001b[0m\u001b[1;33m.\u001b[0m\u001b[0mloss\u001b[0m\u001b[1;33m(\u001b[0m\u001b[0mX_batch\u001b[0m\u001b[1;33m,\u001b[0m \u001b[0my_batch\u001b[0m\u001b[1;33m)\u001b[0m\u001b[1;33m\u001b[0m\u001b[0m\n\u001b[0m\u001b[0;32m    166\u001b[0m     \u001b[0mself\u001b[0m\u001b[1;33m.\u001b[0m\u001b[0mloss_history\u001b[0m\u001b[1;33m.\u001b[0m\u001b[0mappend\u001b[0m\u001b[1;33m(\u001b[0m\u001b[0mloss\u001b[0m\u001b[1;33m)\u001b[0m\u001b[1;33m\u001b[0m\u001b[0m\n\u001b[0;32m    167\u001b[0m \u001b[1;33m\u001b[0m\u001b[0m\n",
      "\u001b[1;32mE:\\OctaveProject\\cs231n\\assignment2\\cs231n\\classifiers\\fc_net.py\u001b[0m in \u001b[0;36mloss\u001b[1;34m(self, X, y)\u001b[0m\n\u001b[0;32m    308\u001b[0m                 \u001b[0mdx\u001b[0m\u001b[1;33m,\u001b[0m \u001b[0mdw\u001b[0m\u001b[1;33m,\u001b[0m \u001b[0mdb\u001b[0m \u001b[1;33m=\u001b[0m \u001b[0maffine_relu_backward\u001b[0m\u001b[1;33m(\u001b[0m\u001b[0mdhiddens\u001b[0m\u001b[1;33m[\u001b[0m\u001b[0mi\u001b[0m\u001b[1;33m]\u001b[0m\u001b[1;33m,\u001b[0m \u001b[0mcaches\u001b[0m\u001b[1;33m[\u001b[0m\u001b[0mi\u001b[0m\u001b[1;33m-\u001b[0m\u001b[1;36m1\u001b[0m\u001b[1;33m]\u001b[0m\u001b[1;33m)\u001b[0m\u001b[1;33m\u001b[0m\u001b[0m\n\u001b[0;32m    309\u001b[0m                 \u001b[0mdhiddens\u001b[0m\u001b[1;33m[\u001b[0m\u001b[0mi\u001b[0m\u001b[1;33m-\u001b[0m\u001b[1;36m1\u001b[0m\u001b[1;33m]\u001b[0m\u001b[1;33m,\u001b[0m \u001b[0mgrads\u001b[0m\u001b[1;33m[\u001b[0m\u001b[1;34m'W'\u001b[0m \u001b[1;33m+\u001b[0m \u001b[0mstr\u001b[0m\u001b[1;33m(\u001b[0m\u001b[0mi\u001b[0m\u001b[1;33m)\u001b[0m\u001b[1;33m]\u001b[0m\u001b[1;33m,\u001b[0m \u001b[0mgrads\u001b[0m\u001b[1;33m[\u001b[0m\u001b[1;34m'b'\u001b[0m \u001b[1;33m+\u001b[0m \u001b[0mstr\u001b[0m\u001b[1;33m(\u001b[0m\u001b[0mi\u001b[0m\u001b[1;33m)\u001b[0m\u001b[1;33m]\u001b[0m \u001b[1;33m=\u001b[0m \u001b[0mdx\u001b[0m\u001b[1;33m,\u001b[0m \u001b[0mdw\u001b[0m\u001b[1;33m,\u001b[0m \u001b[0mdb\u001b[0m\u001b[1;33m\u001b[0m\u001b[0m\n\u001b[1;32m--> 310\u001b[1;33m         \u001b[0mloss\u001b[0m \u001b[1;33m+=\u001b[0m \u001b[1;36m0.5\u001b[0m \u001b[1;33m*\u001b[0m \u001b[0mself\u001b[0m\u001b[1;33m.\u001b[0m\u001b[0mreg\u001b[0m \u001b[1;33m*\u001b[0m \u001b[0mnp\u001b[0m\u001b[1;33m.\u001b[0m\u001b[0msum\u001b[0m\u001b[1;33m(\u001b[0m\u001b[0mself\u001b[0m\u001b[1;33m.\u001b[0m\u001b[0mparams\u001b[0m\u001b[1;33m[\u001b[0m\u001b[1;34m'W'\u001b[0m \u001b[1;33m+\u001b[0m \u001b[0mstr\u001b[0m\u001b[1;33m(\u001b[0m\u001b[0mi\u001b[0m\u001b[1;33m)\u001b[0m\u001b[1;33m]\u001b[0m \u001b[1;33m**\u001b[0m \u001b[1;36m2\u001b[0m\u001b[1;33m)\u001b[0m\u001b[1;33m\u001b[0m\u001b[0m\n\u001b[0m\u001b[0;32m    311\u001b[0m         \u001b[0mgrads\u001b[0m\u001b[1;33m[\u001b[0m\u001b[1;34m'W'\u001b[0m \u001b[1;33m+\u001b[0m \u001b[0mstr\u001b[0m\u001b[1;33m(\u001b[0m\u001b[0mi\u001b[0m\u001b[1;33m)\u001b[0m\u001b[1;33m]\u001b[0m \u001b[1;33m+=\u001b[0m \u001b[0mself\u001b[0m\u001b[1;33m.\u001b[0m\u001b[0mreg\u001b[0m \u001b[1;33m*\u001b[0m \u001b[0mself\u001b[0m\u001b[1;33m.\u001b[0m\u001b[0mparams\u001b[0m\u001b[1;33m[\u001b[0m\u001b[1;34m'W'\u001b[0m \u001b[1;33m+\u001b[0m \u001b[0mstr\u001b[0m\u001b[1;33m(\u001b[0m\u001b[0mi\u001b[0m\u001b[1;33m)\u001b[0m\u001b[1;33m]\u001b[0m\u001b[1;33m\u001b[0m\u001b[0m\n\u001b[0;32m    312\u001b[0m     \u001b[1;31m############################################################################\u001b[0m\u001b[1;33m\u001b[0m\u001b[1;33m\u001b[0m\u001b[0m\n",
      "\u001b[1;31mKeyboardInterrupt\u001b[0m: "
     ]
    }
   ],
   "source": [
    "learning_rates = {'rmsprop': 1e-4, 'adam': 1e-3}\n",
    "for update_rule in ['adam', 'rmsprop']:\n",
    "  print('running with ', update_rule)\n",
    "  model = FullyConnectedNet([100, 100, 100, 100, 100], weight_scale=5e-2)\n",
    "\n",
    "  solver = Solver(model, small_data,\n",
    "                  num_epochs=5, batch_size=50,\n",
    "                  update_rule=update_rule,\n",
    "                  optim_config={\n",
    "                    'learning_rate': learning_rates[update_rule]\n",
    "                  },\n",
    "                  verbose=True)\n",
    "  solvers[update_rule] = solver\n",
    "  solver.train()\n",
    "  print()\n",
    "\n",
    "plt.subplot(3, 1, 1)\n",
    "plt.title('Training loss')\n",
    "plt.xlabel('Iteration')\n",
    "\n",
    "plt.subplot(3, 1, 2)\n",
    "plt.title('Training accuracy')\n",
    "plt.xlabel('Epoch')\n",
    "\n",
    "plt.subplot(3, 1, 3)\n",
    "plt.title('Validation accuracy')\n",
    "plt.xlabel('Epoch')\n",
    "\n",
    "for update_rule, solver in solvers.items():\n",
    "  plt.subplot(3, 1, 1)\n",
    "  plt.plot(solver.loss_history, 'o', label=update_rule)\n",
    "  \n",
    "  plt.subplot(3, 1, 2)\n",
    "  plt.plot(solver.train_acc_history, '-o', label=update_rule)\n",
    "\n",
    "  plt.subplot(3, 1, 3)\n",
    "  plt.plot(solver.val_acc_history, '-o', label=update_rule)\n",
    "  \n",
    "for i in [1, 2, 3]:\n",
    "  plt.subplot(3, 1, i)\n",
    "  plt.legend(loc='upper center', ncol=4)\n",
    "plt.gcf().set_size_inches(15, 15)\n",
    "plt.show()"
   ]
  },
  {
   "cell_type": "markdown",
   "metadata": {},
   "source": [
    "# Train a good model!\n",
    "Train the best fully-connected model that you can on CIFAR-10, storing your best model in the `best_model` variable. We require you to get at least 50% accuracy on the validation set using a fully-connected net.\n",
    "\n",
    "If you are careful it should be possible to get accuracies above 55%, but we don't require it for this part and won't assign extra credit for doing so. Later in the assignment we will ask you to train the best convolutional network that you can on CIFAR-10, and we would prefer that you spend your effort working on convolutional nets rather than fully-connected nets.\n",
    "\n",
    "You might find it useful to complete the `BatchNormalization.ipynb` and `Dropout.ipynb` notebooks before completing this part, since those techniques can help you train powerful models."
   ]
  },
  {
   "cell_type": "code",
   "execution_count": null,
   "metadata": {
    "collapsed": true,
    "scrolled": false
   },
   "outputs": [],
   "source": [
    "best_model = None\n",
    "################################################################################\n",
    "# TODO: Train the best FullyConnectedNet that you can on CIFAR-10. You might   #\n",
    "# batch normalization and dropout useful. Store your best model in the         #\n",
    "# best_model variable.                                                         #\n",
    "################################################################################\n",
    "pass\n",
    "best_acc = 0\n",
    "for learning_rate in [1e-3, 1e-4]:\n",
    "    for reg in [1e-2, 1e-3, 1e-4]:\n",
    "        model = FullyConnectedNet([100, 100, 100, 100, 100], weight_scale=5e-2, reg = reg)\n",
    "\n",
    "        solver = Solver(model, data,\n",
    "                      num_epochs=10, batch_size=200,\n",
    "                      update_rule='rmsprop',\n",
    "                      optim_config={\n",
    "                        'learning_rate': learning_rate\n",
    "                      },\n",
    "                      verbose=False)\n",
    "        solver.train()\n",
    "        print('learning_rate = %f, reg = %f, best val loss = %f' %(learning_rate, reg, solver.best_val_acc))\n",
    "        if solver.best_val_acc > best_acc:\n",
    "            best_acc = solver.best_val_acc\n",
    "            best_model = model\n",
    "################################################################################\n",
    "#                              END OF YOUR CODE                                #\n",
    "################################################################################"
   ]
  },
  {
   "cell_type": "markdown",
   "metadata": {},
   "source": [
    "# Test you model\n",
    "Run your best model on the validation and test sets. You should achieve above 50% accuracy on the validation set."
   ]
  },
  {
   "cell_type": "code",
   "execution_count": null,
   "metadata": {
    "collapsed": true
   },
   "outputs": [],
   "source": [
    "y_test_pred = np.argmax(best_model.loss(data['X_test']), axis=1)\n",
    "y_val_pred = np.argmax(best_model.loss(data['X_val']), axis=1)\n",
    "print('Validation set accuracy: ', (y_val_pred == data['y_val']).mean())\n",
    "print('Test set accuracy: ', (y_test_pred == data['y_test']).mean())"
   ]
  },
  {
   "cell_type": "code",
   "execution_count": null,
   "metadata": {
    "collapsed": true
   },
   "outputs": [],
   "source": []
  }
 ],
 "metadata": {
  "kernelspec": {
   "display_name": "Python 3",
   "language": "python",
   "name": "python3"
  },
  "language_info": {
   "codemirror_mode": {
    "name": "ipython",
    "version": 3
   },
   "file_extension": ".py",
   "mimetype": "text/x-python",
   "name": "python",
   "nbconvert_exporter": "python",
   "pygments_lexer": "ipython3",
   "version": "3.6.2"
  }
 },
 "nbformat": 4,
 "nbformat_minor": 1
}
